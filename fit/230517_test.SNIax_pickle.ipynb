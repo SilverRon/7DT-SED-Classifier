{
 "cells": [
  {
   "cell_type": "code",
   "execution_count": 9,
   "metadata": {},
   "outputs": [],
   "source": [
    "import pickle\n",
    "import sncosmo\n",
    "import numpy as np\n",
    "import scipy"
   ]
  },
  {
   "cell_type": "code",
   "execution_count": 10,
   "metadata": {},
   "outputs": [
    {
     "name": "stderr",
     "output_type": "stream",
     "text": [
      "/var/folders/73/438czwkx0jb_7z61gc79vcb40000gn/T/ipykernel_1702/4032707771.py:1: DeprecationWarning: Please use `RectBivariateSpline` from the `scipy.interpolate` namespace, the `scipy.interpolate.fitpack2` namespace is deprecated.\n",
      "  source = pickle.load(open('../model/PLAsTiCC/SNIax/sn2005hk.source.pickle', \"rb\" ), encoding=\"latin-1\" )['source']\n"
     ]
    }
   ],
   "source": [
    "source = pickle.load(open('../model/PLAsTiCC/SNIax/sn2005hk.source.pickle', \"rb\" ), encoding=\"latin-1\" )['source']\n"
   ]
  },
  {
   "cell_type": "code",
   "execution_count": 16,
   "metadata": {},
   "outputs": [],
   "source": [
    "def define_external_sncosmo_model(source):\n",
    "\torigmodel = sncosmo.Model(source=source)\n",
    "\t\n",
    "\tphase = np.linspace(-30.,200.,231)\n",
    "\tnphase = len(phase)\n",
    "\twave = np.linspace(1000.,25000.,2401)\n",
    "\tnwave = len(wave)\n",
    "\n",
    "\torigflux = origmodel.flux(phase,wave)\n",
    "\tflux = np.copy(origflux)\n",
    "\n",
    "\t# smooth z and y bands which are too wiggly\n",
    "\tzy = np.where( (wave >= 8000.) & (wave <= 11000.))\n",
    "\tflux[10:,zy] = scipy.ndimage.gaussian_filter(origflux,[4.0,0.0])[10:,zy]\n",
    "\n",
    "\t# extend to late times and smooth it\n",
    "\t#   enforce 0.015 mag/day (= 72.4 d e-folding) late-time decline rate\n",
    "\tlate = np.where(phase >= 50.)\n",
    "\tflux[late,:] *= np.exp(-(phase[late,None]-50.)/72.4)\n",
    "\tflux[70:,:] = scipy.ndimage.gaussian_filter(flux,[4.0,0.0])[70:,:]    \n",
    "\n",
    "\tsedmodel = sncosmo.Model(source=sncosmo.TimeSeriesSource(phase,wave,flux))\n",
    "\treturn sedmodel"
   ]
  },
  {
   "cell_type": "code",
   "execution_count": 17,
   "metadata": {},
   "outputs": [],
   "source": [
    "sedmodel = define_external_sncosmo_model(source)"
   ]
  },
  {
   "cell_type": "code",
   "execution_count": null,
   "metadata": {},
   "outputs": [],
   "source": []
  }
 ],
 "metadata": {
  "kernelspec": {
   "display_name": "sdt",
   "language": "python",
   "name": "python3"
  },
  "language_info": {
   "codemirror_mode": {
    "name": "ipython",
    "version": 3
   },
   "file_extension": ".py",
   "mimetype": "text/x-python",
   "name": "python",
   "nbconvert_exporter": "python",
   "pygments_lexer": "ipython3",
   "version": "3.11.0"
  },
  "orig_nbformat": 4
 },
 "nbformat": 4,
 "nbformat_minor": 2
}
