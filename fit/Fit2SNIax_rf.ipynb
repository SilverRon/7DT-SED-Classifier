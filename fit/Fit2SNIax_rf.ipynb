{
 "cells": [
  {
   "cell_type": "code",
   "execution_count": 1,
   "metadata": {},
   "outputs": [],
   "source": [
    "from sklearn.ensemble import RandomForestRegressor\n",
    "from sklearn.model_selection import train_test_split\n",
    "import numpy as np\n",
    "import glob\n",
    "from astropy.table import Table\n",
    "import sys\n",
    "sys.path.append('..')\n",
    "from util.helper import *\n",
    "from util.sdtpy import *\n",
    "import inspect\n",
    "import matplotlib.pyplot as plt\n",
    "from astropy.time import Time"
   ]
  },
  {
   "cell_type": "code",
   "execution_count": 2,
   "metadata": {},
   "outputs": [],
   "source": [
    "def tablize_sedinfo(path_sedinfo, models):\n",
    "\tinfotbl = Table()\n",
    "\tinfotbl['model'] = models\n",
    "\t\n",
    "\twith open(path_sedinfo, 'r') as f:\n",
    "\t\tfor line in f:\n",
    "\t\t\t#\tFind parameter row\n",
    "\t\t\tif line.startswith('PARNAMES: '):\n",
    "\t\t\t\t# print(line)\n",
    "\t\t\t\theaders = line.split()[1:]\n",
    "\t\t\t\tbreak\n",
    "\t\t#\tGenerate empty columns\n",
    "\t\tfor header in headers:\n",
    "\t\t\tinfotbl[header] = 0.0\n",
    "\n",
    "\t\tfor ll, line in enumerate(f):\n",
    "\t\t\tif ll < len(infotbl):\n",
    "\t\t\t\t#\tValues\n",
    "\t\t\t\tif line.startswith('SED:'):\n",
    "\t\t\t\t\tvals = line.split()[2:]\n",
    "\t\t\t\t\tfor hh, header in enumerate(headers):\n",
    "\t\t\t\t\t\tinfotbl[header][ll] = float(vals[hh])\n",
    "\n",
    "\treturn infotbl\n"
   ]
  },
  {
   "cell_type": "code",
   "execution_count": 3,
   "metadata": {},
   "outputs": [],
   "source": [
    "snrcut = 3\n",
    "source = 'MOSFiT'\n",
    "fittype = 'SNIax'\n",
    "verbose = True"
   ]
  },
  {
   "cell_type": "code",
   "execution_count": 4,
   "metadata": {},
   "outputs": [
    {
     "name": "stdout",
     "output_type": "stream",
     "text": [
      "1001 models found\n"
     ]
    }
   ],
   "source": [
    "models = sorted(glob.glob(f'../model/PLAsTiCC/{fittype}/SIMSED.{fittype}/*.fits'))\n",
    "print(f\"{len(models)} models found\") "
   ]
  },
  {
   "cell_type": "code",
   "execution_count": 5,
   "metadata": {},
   "outputs": [],
   "source": [
    "path_sedinfo = f'../model/PLAsTiCC/{fittype}/SIMSED.{fittype}/SED.INFO'\n",
    "infotbl = tablize_sedinfo(path_sedinfo, models)"
   ]
  },
  {
   "cell_type": "code",
   "execution_count": 6,
   "metadata": {},
   "outputs": [
    {
     "name": "stdout",
     "output_type": "stream",
     "text": [
      "Table length: 112800 --> 22400\n"
     ]
    }
   ],
   "source": [
    "ii = 10\n",
    "model = models[ii]\n",
    "_mdtbl = Table.read(model)\n",
    "\n",
    "indx = np.where(\n",
    "    (_mdtbl['col1'] <= 30) &\n",
    "    (_mdtbl['col2'] >= 2000) &\n",
    "    (_mdtbl['col2'] <= 10000)\n",
    ")\n",
    "\n",
    "mdtbl = _mdtbl[indx]\n",
    "phasearr = np.unique(mdtbl['col1'])\n",
    "lamarr = np.unique(mdtbl['col2'])\n",
    "number_of_unique_phase, number_of_unique_wavelength = len(phasearr), len(lamarr)\n",
    "flux2darr = mdtbl['col3'].reshape(number_of_unique_phase, number_of_unique_wavelength)\n",
    "\n",
    "print(f\"Table length: {len(_mdtbl)} --> {len(mdtbl)}\")"
   ]
  },
  {
   "cell_type": "code",
   "execution_count": 7,
   "metadata": {},
   "outputs": [
    {
     "data": {
      "text/plain": [
       "['M_V', 't_rise', 'dm15B', 'dm15R']"
      ]
     },
     "execution_count": 7,
     "metadata": {},
     "output_type": "execute_result"
    }
   ],
   "source": [
    "param_keys = infotbl.keys()[2:]\n",
    "param_keys"
   ]
  },
  {
   "cell_type": "code",
   "execution_count": 8,
   "metadata": {},
   "outputs": [],
   "source": [
    "# 데이터 변환\n",
    "X, y = prepare_rf_train_data(infotbl, param_keys, phasearr, number_of_unique_phase, number_of_unique_wavelength, phase_upper=30., lam_lower=2000., lam_upper=10000.)\n",
    "# 데이터 분할\n",
    "X_train, X_test, y_train, y_test = train_test_split(X, y, test_size=0.2, random_state=42)"
   ]
  },
  {
   "cell_type": "code",
   "execution_count": 9,
   "metadata": {},
   "outputs": [
    {
     "data": {
      "text/html": [
       "<style>#sk-container-id-1 {color: black;background-color: white;}#sk-container-id-1 pre{padding: 0;}#sk-container-id-1 div.sk-toggleable {background-color: white;}#sk-container-id-1 label.sk-toggleable__label {cursor: pointer;display: block;width: 100%;margin-bottom: 0;padding: 0.3em;box-sizing: border-box;text-align: center;}#sk-container-id-1 label.sk-toggleable__label-arrow:before {content: \"▸\";float: left;margin-right: 0.25em;color: #696969;}#sk-container-id-1 label.sk-toggleable__label-arrow:hover:before {color: black;}#sk-container-id-1 div.sk-estimator:hover label.sk-toggleable__label-arrow:before {color: black;}#sk-container-id-1 div.sk-toggleable__content {max-height: 0;max-width: 0;overflow: hidden;text-align: left;background-color: #f0f8ff;}#sk-container-id-1 div.sk-toggleable__content pre {margin: 0.2em;color: black;border-radius: 0.25em;background-color: #f0f8ff;}#sk-container-id-1 input.sk-toggleable__control:checked~div.sk-toggleable__content {max-height: 200px;max-width: 100%;overflow: auto;}#sk-container-id-1 input.sk-toggleable__control:checked~label.sk-toggleable__label-arrow:before {content: \"▾\";}#sk-container-id-1 div.sk-estimator input.sk-toggleable__control:checked~label.sk-toggleable__label {background-color: #d4ebff;}#sk-container-id-1 div.sk-label input.sk-toggleable__control:checked~label.sk-toggleable__label {background-color: #d4ebff;}#sk-container-id-1 input.sk-hidden--visually {border: 0;clip: rect(1px 1px 1px 1px);clip: rect(1px, 1px, 1px, 1px);height: 1px;margin: -1px;overflow: hidden;padding: 0;position: absolute;width: 1px;}#sk-container-id-1 div.sk-estimator {font-family: monospace;background-color: #f0f8ff;border: 1px dotted black;border-radius: 0.25em;box-sizing: border-box;margin-bottom: 0.5em;}#sk-container-id-1 div.sk-estimator:hover {background-color: #d4ebff;}#sk-container-id-1 div.sk-parallel-item::after {content: \"\";width: 100%;border-bottom: 1px solid gray;flex-grow: 1;}#sk-container-id-1 div.sk-label:hover label.sk-toggleable__label {background-color: #d4ebff;}#sk-container-id-1 div.sk-serial::before {content: \"\";position: absolute;border-left: 1px solid gray;box-sizing: border-box;top: 0;bottom: 0;left: 50%;z-index: 0;}#sk-container-id-1 div.sk-serial {display: flex;flex-direction: column;align-items: center;background-color: white;padding-right: 0.2em;padding-left: 0.2em;position: relative;}#sk-container-id-1 div.sk-item {position: relative;z-index: 1;}#sk-container-id-1 div.sk-parallel {display: flex;align-items: stretch;justify-content: center;background-color: white;position: relative;}#sk-container-id-1 div.sk-item::before, #sk-container-id-1 div.sk-parallel-item::before {content: \"\";position: absolute;border-left: 1px solid gray;box-sizing: border-box;top: 0;bottom: 0;left: 50%;z-index: -1;}#sk-container-id-1 div.sk-parallel-item {display: flex;flex-direction: column;z-index: 1;position: relative;background-color: white;}#sk-container-id-1 div.sk-parallel-item:first-child::after {align-self: flex-end;width: 50%;}#sk-container-id-1 div.sk-parallel-item:last-child::after {align-self: flex-start;width: 50%;}#sk-container-id-1 div.sk-parallel-item:only-child::after {width: 0;}#sk-container-id-1 div.sk-dashed-wrapped {border: 1px dashed gray;margin: 0 0.4em 0.5em 0.4em;box-sizing: border-box;padding-bottom: 0.4em;background-color: white;}#sk-container-id-1 div.sk-label label {font-family: monospace;font-weight: bold;display: inline-block;line-height: 1.2em;}#sk-container-id-1 div.sk-label-container {text-align: center;}#sk-container-id-1 div.sk-container {/* jupyter's `normalize.less` sets `[hidden] { display: none; }` but bootstrap.min.css set `[hidden] { display: none !important; }` so we also need the `!important` here to be able to override the default hidden behavior on the sphinx rendered scikit-learn.org. See: https://github.com/scikit-learn/scikit-learn/issues/21755 */display: inline-block !important;position: relative;}#sk-container-id-1 div.sk-text-repr-fallback {display: none;}</style><div id=\"sk-container-id-1\" class=\"sk-top-container\"><div class=\"sk-text-repr-fallback\"><pre>RandomForestRegressor()</pre><b>In a Jupyter environment, please rerun this cell to show the HTML representation or trust the notebook. <br />On GitHub, the HTML representation is unable to render, please try loading this page with nbviewer.org.</b></div><div class=\"sk-container\" hidden><div class=\"sk-item\"><div class=\"sk-estimator sk-toggleable\"><input class=\"sk-toggleable__control sk-hidden--visually\" id=\"sk-estimator-id-1\" type=\"checkbox\" checked><label for=\"sk-estimator-id-1\" class=\"sk-toggleable__label sk-toggleable__label-arrow\">RandomForestRegressor</label><div class=\"sk-toggleable__content\"><pre>RandomForestRegressor()</pre></div></div></div></div></div>"
      ],
      "text/plain": [
       "RandomForestRegressor()"
      ]
     },
     "execution_count": 9,
     "metadata": {},
     "output_type": "execute_result"
    }
   ],
   "source": [
    "# Random Forest 모델 생성 및 훈련\n",
    "rf = RandomForestRegressor()\n",
    "rf.fit(X_train, y_train)"
   ]
  },
  {
   "cell_type": "code",
   "execution_count": 10,
   "metadata": {},
   "outputs": [
    {
     "name": "stdout",
     "output_type": "stream",
     "text": [
      "평균 제곱 오차 (MSE): 8.722879604786948e-07\n",
      "평균 절대 오차 (MAE): 0.00022422809211576446\n",
      "결정 계수 (R-squared): 0.9971784439313691\n"
     ]
    }
   ],
   "source": [
    "# 테스트 데이터에 대한 예측 수행\n",
    "y_pred = rf.predict(X_test)\n",
    "\n",
    "from sklearn.metrics import mean_squared_error, mean_absolute_error, r2_score\n",
    "\n",
    "# 평균 제곱 오차 (MSE) 계산\n",
    "mse = mean_squared_error(y_test, y_pred)\n",
    "print(\"평균 제곱 오차 (MSE):\", mse)\n",
    "\n",
    "# 평균 절대 오차 (MAE) 계산\n",
    "mae = mean_absolute_error(y_test, y_pred)\n",
    "print(\"평균 절대 오차 (MAE):\", mae)\n",
    "\n",
    "# 결정 계수 (R-squared) 계산\n",
    "r2 = r2_score(y_test, y_pred)\n",
    "print(\"결정 계수 (R-squared):\", r2)"
   ]
  },
  {
   "attachments": {},
   "cell_type": "markdown",
   "metadata": {},
   "source": [
    "# Fitting the model"
   ]
  },
  {
   "attachments": {},
   "cell_type": "markdown",
   "metadata": {},
   "source": [
    "## Input data"
   ]
  },
  {
   "cell_type": "code",
   "execution_count": 11,
   "metadata": {},
   "outputs": [
    {
     "name": "stdout",
     "output_type": "stream",
     "text": [
      "Use `med25nm`, `med50nm`, `broad` as `group_name`\n"
     ]
    }
   ],
   "source": [
    "register_custom_filters_on_speclite('../util')"
   ]
  },
  {
   "cell_type": "code",
   "execution_count": 12,
   "metadata": {},
   "outputs": [
    {
     "name": "stdout",
     "output_type": "stream",
     "text": [
      "lam: 3000.000 - 10000.000 AA\n",
      "lamstep: 25 AA\n",
      "n_lam: 400\n"
     ]
    }
   ],
   "source": [
    "intype = 'kn'\n",
    "indist = 40\n",
    "inexptime = 180\n",
    "# group = 'broad_ugriz'\n",
    "group = input(\"\"\"Choose the filterset (med25nm, broad_griz, broad_ugriz):\"\"\")\n",
    "if group == 'med25nm':\n",
    "\tfilterset_group = filterlist_med25nm\n",
    "elif group == 'broad_griz':\n",
    "\tfilterset_group = filterlist_griz\n",
    "elif group == 'broad_ugriz':\n",
    "\tfilterset_group = filterlist_ugriz\n",
    "filterset = [f\"{group}-{filte}\" for filte, _, group in filterset_group]\n",
    "bands = speclite.filters.load_filters(*filterset)\n",
    "\n",
    "if 'med' in bands.names[0]:\n",
    "\t#    Medium-band\n",
    "\tbandwidth = 250 # [AA]\n",
    "\tlammin = 3000\n",
    "\tlammax = 10000\n",
    "else:\n",
    "\t#\tBroad-band\n",
    "\tbandwidth = 1000 # [AA]\n",
    "\tlammin = 2000\n",
    "\tlammax = 12000\n",
    "\n",
    "lamstep = bandwidth/10\n",
    "# lamarr = np.arange(lammin, lammax+lamstep, lamstep)\n",
    "# _lamarr = np.arange(lammin, lammax+lamstep, 10)\n",
    "\n",
    "print(f\"lam: {lammin:.3f} - {lammax:.3f} AA\")\n",
    "print(f\"lamstep: {lamstep:g} AA\")\n",
    "print(f\"n_lam: {len(lamarr)}\")"
   ]
  },
  {
   "cell_type": "code",
   "execution_count": 13,
   "metadata": {},
   "outputs": [],
   "source": [
    "if group == 'med25nm':\n",
    "\t#\tMedium-band\n",
    "\tpath_input = f'../input/{intype}/{indist:0>3}Mpc/{inexptime:0>3}s/{group}'\n",
    "else:\n",
    "\t#\tBroad-band\n",
    "\tpath_input = f'../input/{intype}/{indist:0>3}Mpc/{inexptime:0>3}s/broad'\n",
    "path_output = f'../fit_result/{intype}2{fittype}/{indist:0>3}Mpc/{inexptime:0>3}s/{group}'\n",
    "if not os.path.exists(path_output):\n",
    "\tos.makedirs(path_output)\n",
    "outfits = f\"{path_output}/fit_result.fits\""
   ]
  },
  {
   "cell_type": "code",
   "execution_count": 14,
   "metadata": {},
   "outputs": [
    {
     "name": "stdout",
     "output_type": "stream",
     "text": [
      "3600 input tables found\n"
     ]
    }
   ],
   "source": [
    "intablelist = sorted(glob.glob(f\"{path_input}/obs.*.fits\"))\n",
    "print(f\"{len(intablelist)} input tables found\")"
   ]
  },
  {
   "cell_type": "code",
   "execution_count": 15,
   "metadata": {},
   "outputs": [],
   "source": [
    "outbl = Table()\n",
    "#\tInput data\n",
    "outbl['input_table'] = [os.path.basename(intable) for intable in intablelist]\n",
    "#\tDetection / Fit\n",
    "outbl['ndet'] = 0\n",
    "outbl['det_filters'] = \" \"*200\n",
    "outbl['det'] = False\n",
    "outbl['fit'] = False\n",
    "#\tFitted Parameters\n",
    "outbl['z'] = 0.\n",
    "outbl['t'] = 0.\n",
    "for key in param_keys:\n",
    "\toutbl[key] = 0.\n",
    "#\tError\n",
    "outbl['zerr'] = 0.\n",
    "outbl['terr'] = 0.\n",
    "for key in param_keys:\n",
    "\toutbl[f\"{key}err\"] = 0.\n",
    "\n",
    "#\tFit Results\n",
    "outbl['free_params'] = 0\n",
    "outbl['dof'] = 0\n",
    "outbl['chisq'] = 0.\n",
    "outbl['chisqdof'] = 0.\n",
    "outbl['bic'] = 0.\n",
    "#\tMeta\n",
    "outbl.meta['fittype'] = fittype\n",
    "outbl.meta['source'] = source\n",
    "outbl.meta['intype'] = intype\n",
    "outbl.meta['indist[Mpc]'] = indist\n",
    "outbl.meta['inexptime[s]'] = inexptime\n",
    "outbl.meta['group'] = group\n",
    "outbl.meta['date'] = Time.now().isot"
   ]
  },
  {
   "cell_type": "code",
   "execution_count": 16,
   "metadata": {},
   "outputs": [],
   "source": [
    "#\tTemp Table\n",
    "_mdtbl = Table.read(intablelist[0])\n",
    "for key, val in _mdtbl.meta.items():\n",
    "\tif key in ['MD', 'VD', 'MW', 'VW', 'ANG', 'PHASE', 'REDSHIFT',]:\n",
    "\t\tif type(val) is str:\n",
    "\t\t\toutbl[key] = ' '*10\n",
    "\t\telif type(val) is float:\n",
    "\t\t\toutbl[key] = 0.0\n",
    "\t\telif type(val) is int:\n",
    "\t\t\toutbl[key] = 0"
   ]
  },
  {
   "cell_type": "code",
   "execution_count": 17,
   "metadata": {},
   "outputs": [],
   "source": [
    "def func(x, z, t, M_V, t_rise, dm15B, dm15R):\n",
    "\n",
    "\tnew_data = np.array(\n",
    "\t\t[[M_V, t_rise, dm15B, dm15R, t]]\n",
    "\t\t)\n",
    "\n",
    "\t#\tSpectrum : wavelength & flux\n",
    "\tflam = rf.predict(new_data)[0]\n",
    "\n",
    "\t#\tRedshifted\n",
    "\t(zspappflam, zsplam) = apply_redshift_on_spectrum(flam*flamunit, lamarr*lamunit, z, z0=0)\n",
    "\tmags = bands.get_ab_magnitudes(*bands.pad_spectrum(zspappflam, zsplam))\n",
    "\n",
    "\tspmag = np.array([mags[key][0] for key in mags.keys()])\n",
    "\tspfnu = (spmag*u.ABmag).to(u.uJy).value\n",
    "\n",
    "\treturn spfnu"
   ]
  },
  {
   "cell_type": "code",
   "execution_count": 18,
   "metadata": {},
   "outputs": [],
   "source": [
    "ii = 10\n",
    "intable = intablelist[ii]\n",
    "st = time.time()"
   ]
  },
  {
   "cell_type": "code",
   "execution_count": 19,
   "metadata": {},
   "outputs": [
    {
     "name": "stdout",
     "output_type": "stream",
     "text": [
      "obs.000010.fits (180s) --> SNIax\n"
     ]
    }
   ],
   "source": [
    "print(f\"{os.path.basename(intable)} ({inexptime}s) --> {fittype}\")\n",
    "intbl = Table.read(intable)"
   ]
  },
  {
   "cell_type": "code",
   "execution_count": 20,
   "metadata": {},
   "outputs": [],
   "source": [
    "indx_det = np.where(intbl['snr']>snrcut)\n",
    "filterlist_det = list(intbl['filter'][indx_det])\n",
    "filterlist_str = \",\".join(filterlist_det)"
   ]
  },
  {
   "cell_type": "code",
   "execution_count": 21,
   "metadata": {},
   "outputs": [],
   "source": [
    "filterset = [f\"{group}-{filte}\" for filte, _, group in filterset_group if filte in filterlist_det]\n",
    "bands = speclite.filters.load_filters(*filterset)"
   ]
  },
  {
   "cell_type": "code",
   "execution_count": 22,
   "metadata": {},
   "outputs": [
    {
     "name": "stdout",
     "output_type": "stream",
     "text": [
      "number of detections: 18\n",
      "detection: True\n"
     ]
    }
   ],
   "source": [
    "# %%\n",
    "ndet = len(filterset)\n",
    "detection = np.any(intbl['snr'] > 5)\n",
    "if verbose:\n",
    "\tprint(f\"number of detections: {ndet}\")\n",
    "\tprint(f\"detection: {detection}\")"
   ]
  },
  {
   "cell_type": "code",
   "execution_count": 23,
   "metadata": {},
   "outputs": [],
   "source": [
    "xdata = intbl['fnuobs'].data[indx_det]\n",
    "ydata = xdata\n",
    "sigma = intbl['fnuerr'].data[indx_det]"
   ]
  },
  {
   "attachments": {},
   "cell_type": "markdown",
   "metadata": {},
   "source": [
    "- x, z, t, M_V, t_rise, dm15B, dm15R"
   ]
  },
  {
   "cell_type": "code",
   "execution_count": 24,
   "metadata": {},
   "outputs": [],
   "source": [
    "p0 = (\n",
    "\t0.01, 0, np.mean(infotbl['M_V']), np.mean(infotbl['t_rise']), np.mean(infotbl['dm15B']), np.mean(infotbl['dm15B']),\n",
    ")\n",
    "\n",
    "bounds = (\n",
    "\t(0.0, -25, np.min(infotbl['M_V']), np.min(infotbl['t_rise']), np.min(infotbl['dm15B']), np.min(infotbl['dm15R'])),\n",
    "\t(1.0, 30,      np.max(infotbl['M_V']), np.max(infotbl['t_rise']), np.max(infotbl['dm15B']), np.max(infotbl['dm15R'])),\n",
    ")\n",
    "\n",
    "n_free_param = len(inspect.signature(func).parameters)-1"
   ]
  },
  {
   "cell_type": "code",
   "execution_count": 25,
   "metadata": {},
   "outputs": [],
   "source": [
    "fit = False\n",
    "try:\n",
    "\tpopt, pcov = curve_fit(\n",
    "\t\tfunc,\n",
    "\t\txdata=xdata,\n",
    "\t\tydata=ydata,\n",
    "\t\tsigma=sigma,\n",
    "\t\t# p0=p0,\n",
    "\t\tabsolute_sigma=True,\n",
    "\t\tcheck_finite=True,\n",
    "\t\tbounds=bounds,\n",
    "\t\tmethod='trf',\n",
    "\t\t# max_nfev=1e4,\n",
    "\t)\n",
    "\tfit = True\n",
    "except Exception as e:\n",
    "\t# print(e)\n",
    "\toutlog = f\"{path_output}/{os.path.basename(intable).replace('obs', 'fit').replace('fits', 'log')}\"\n",
    "\tf = open(outlog, 'w')\n",
    "\tf.write(str(e))\n",
    "\tf.close()\n",
    "\tfit = False\n"
   ]
  },
  {
   "cell_type": "code",
   "execution_count": 26,
   "metadata": {},
   "outputs": [
    {
     "name": "stdout",
     "output_type": "stream",
     "text": [
      "z=0.0309\n",
      "t=2.5\n",
      "M_V=-15.7\n",
      "t_rise=14.8\n",
      "dm15B=1.77\n",
      "dm15R=0.724\n"
     ]
    }
   ],
   "source": [
    "if fit:\n",
    "\t#\tFitting result\n",
    "\tr = ydata.data - func(xdata, *popt)\n",
    "\tn_free_param = len(inspect.signature(func).parameters)-1\n",
    "\tdof = ndet - n_free_param\n",
    "\tchisq_i = (r / sigma) ** 2\n",
    "\tchisq = np.sum(chisq_i)\n",
    "\tchisqdof = chisq/dof\n",
    "\tbic = chisq + n_free_param*np.log(ndet)\n",
    "\tperr = np.sqrt(np.diag(pcov))\n",
    "\n",
    "\t# %%\n",
    "\tz = popt[0]\n",
    "\tt = popt[1]\n",
    "\tM_V = popt[2]\n",
    "\tt_rise = popt[3]\n",
    "\tdm15B = popt[4]\n",
    "\tdm15R = popt[5]\n",
    "\tif verbose:\n",
    "\t\tprint(f\"z={z:.3}\")\n",
    "\t\tprint(f\"t={t:.3}\")\n",
    "\t\tprint(f\"M_V={M_V:.3}\")\n",
    "\t\tprint(f\"t_rise={t_rise:.3}\")\n",
    "\t\tprint(f\"dm15B={dm15B:.3}\")\n",
    "\t\tprint(f\"dm15R={dm15R:.3}\")\n",
    "\n",
    "\t# %%\n",
    "\toutpng = f\"{path_output}/{os.path.basename(intable).replace('obs', 'fit').replace('fits', 'png')}\"\n"
   ]
  },
  {
   "cell_type": "code",
   "execution_count": 27,
   "metadata": {},
   "outputs": [],
   "source": [
    "#\tDetection / Fit\n",
    "outbl['ndet'][ii] = ndet\n",
    "outbl['det_filters'][ii] = filterlist_str\n",
    "outbl['det'][ii] = detection\n",
    "outbl['fit'][ii] = fit\n",
    "#\tFitted Parameters\n",
    "outbl['z'][ii] = z\n",
    "outbl['t'][ii] = t\n",
    "outbl['M_V'][ii] = M_V\n",
    "outbl['t_rise'][ii] = t_rise\n",
    "outbl['dm15B'][ii] = dm15B\n",
    "outbl['dm15R'][ii] = dm15R\n",
    "\n",
    "#\tError\n",
    "outbl['zerr'][ii] = perr[0]\n",
    "outbl['terr'][ii] = perr[1]\n",
    "outbl['M_Verr'][ii] = perr[2]\n",
    "outbl['t_riseerr'][ii] = perr[3]\n",
    "outbl['dm15Berr'][ii] = perr[4]\n",
    "outbl['dm15Rerr'][ii] = perr[5]\n",
    "\n",
    "#\tFit Results\n",
    "outbl['free_params'][ii] = n_free_param\n",
    "outbl['dof'][ii] = dof\n",
    "outbl['chisq'][ii] = chisq\n",
    "outbl['chisqdof'][ii] = chisqdof\n",
    "outbl['bic'][ii] = bic"
   ]
  },
  {
   "cell_type": "code",
   "execution_count": 28,
   "metadata": {},
   "outputs": [],
   "source": [
    "new_data = np.array(\n",
    "\t[[M_V, t_rise, dm15B, dm15R, t]]\n",
    "\t)\n",
    "\n",
    "#\tSpectrum : wavelength & flux\n",
    "flam = rf.predict(new_data)[0]"
   ]
  },
  {
   "cell_type": "code",
   "execution_count": 29,
   "metadata": {},
   "outputs": [],
   "source": [
    "(zspappflam, zsplam) = apply_redshift_on_spectrum(flam*flamunit, lamarr*lamunit, z, z0=0)\n",
    "mags = bands.get_ab_magnitudes(zspappflam, zsplam)\n",
    "\n",
    "spmag = np.array([mags[key][0] for key in mags.keys()])\n",
    "spfnu = (spmag*u.ABmag).to(u.uJy).value\n",
    "\n",
    "# %%\n",
    "fnuarr = convert_flam2fnu(zspappflam, zsplam).to(u.uJy)"
   ]
  },
  {
   "cell_type": "code",
   "execution_count": 30,
   "metadata": {},
   "outputs": [],
   "source": [
    "label = f\"\"\"n_det={ndet}, rchisq={chisqdof:.3f}, bic={bic:.3f}\n",
    "z ={z:.3f}, t ={t:.3f}\n",
    "M_V={M_V:.3f}, t_rise={t_rise:.3f}, dm15B={dm15B:.3f}, dm15R={dm15B:.3f}\"\"\""
   ]
  },
  {
   "cell_type": "code",
   "execution_count": 31,
   "metadata": {},
   "outputs": [
    {
     "data": {
      "image/png": "[encoded data removed]",
      "text/plain": [
       "<Figure size 800x600 with 2 Axes>"
      ]
     },
     "metadata": {},
     "output_type": "display_data"
    }
   ],
   "source": [
    "plt.close('all')\n",
    "plt.figure(figsize=(8, 6))\n",
    "plt.plot(lamarr, fnuarr, c='grey', lw=3, alpha=0.5, label=label)\n",
    "yl, yu = plt.ylim()\n",
    "# plt.scatter(bands.effective_wavelengths, xdata, c=intbl['snr'], marker='s', s=50, ec='k')\n",
    "plt.scatter(intbl['lam'], intbl['fnuobs'], c=intbl['snr'], marker='s', s=50, ec='k')\n",
    "if 'med' in group:\n",
    "\tplt.errorbar(intbl['lam'], intbl['fnuobs'], xerr=bandwidth/2, yerr=intbl['fnuerr'], c='k', ls='none', zorder=0)\n",
    "elif 'broad' in group:\n",
    "\t# plt.errorbar(intbl['lam'], intbl['fnuobs'], xerr=bandwidtharr_broad[indx_det]/2, yerr=intbl['fnuerr'], c='k', ls='none', zorder=0)\t\t\t\t\t\n",
    "\tplt.errorbar(intbl['lam'], intbl['fnuobs'], xerr=bandwidtharr_broad/2, yerr=intbl['fnuerr'], c='k', ls='none', zorder=0)\t\t\t\t\t\n",
    "cbar = plt.colorbar()\n",
    "cbar.set_label(\"SNR\")\n",
    "# plt.plot(bands.effective_wavelengths, func(xdata, *popt), '.', c='tomato')\n",
    "plt.plot(intbl['lam'], intbl['fnu'], c='tomato', marker='.', ls='none', zorder=0)\n",
    "plt.title(f\"{fittype} {source.upper()}\")\n",
    "plt.xticks(fontsize=12)\n",
    "plt.yticks(fontsize=12)\n",
    "if 'med' in group:\n",
    "\txl = 3750\n",
    "\txr = 9000\n",
    "else:\n",
    "\txl = 3000\n",
    "\txr = 10000\n",
    "plt.xlim([xl, xr])\n",
    "plt.ylim([yl, yu])\n",
    "plt.xlabel(r\"$\\rm \\lambda$ [$\\AA$]\")\n",
    "plt.ylabel(r\"$\\rm f_\\nu$ [uJy]\")\n",
    "plt.legend(loc='lower center')\n",
    "plt.tight_layout()\n",
    "plt.savefig(outpng, dpi=100)"
   ]
  },
  {
   "cell_type": "code",
   "execution_count": 37,
   "metadata": {},
   "outputs": [
    {
     "data": {
      "text/plain": [
       "[<matplotlib.lines.Line2D at 0x16e03a550>]"
      ]
     },
     "execution_count": 37,
     "metadata": {},
     "output_type": "execute_result"
    },
    {
     "data": {
      "image/png": "[encoded data removed]",
      "text/plain": [
       "<Figure size 640x480 with 1 Axes>"
      ]
     },
     "metadata": {},
     "output_type": "display_data"
    }
   ],
   "source": [
    "residual = intbl['fnuobs'][indx_det]-func(xdata, *popt)\n",
    "plt.plot(intbl['lam'][indx_det], residual, '.-')"
   ]
  },
  {
   "cell_type": "code",
   "execution_count": 32,
   "metadata": {},
   "outputs": [
    {
     "name": "stdout",
     "output_type": "stream",
     "text": [
      "Done (1.17s)\n"
     ]
    }
   ],
   "source": [
    "ed = time.time()\n",
    "delt = ed-st\n",
    "outbl.meta['time[s]'] = delt\n",
    "outbl.write(outfits, overwrite=True)\n",
    "print(f\"Done ({delt:.3}s)\")"
   ]
  }
 ],
 "metadata": {
  "kernelspec": {
   "display_name": "sdt",
   "language": "python",
   "name": "python3"
  },
  "language_info": {
   "codemirror_mode": {
    "name": "ipython",
    "version": 3
   },
   "file_extension": ".py",
   "mimetype": "text/x-python",
   "name": "python",
   "nbconvert_exporter": "python",
   "pygments_lexer": "ipython3",
   "version": "3.11.0"
  },
  "orig_nbformat": 4
 },
 "nbformat": 4,
 "nbformat_minor": 2
}
