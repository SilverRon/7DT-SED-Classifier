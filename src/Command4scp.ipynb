{
 "cells": [
  {
   "cell_type": "code",
   "execution_count": 8,
   "metadata": {},
   "outputs": [],
   "source": [
    "import glob, os"
   ]
  },
  {
   "cell_type": "code",
   "execution_count": 9,
   "metadata": {},
   "outputs": [],
   "source": [
    "user = 'gecko'\n",
    "port_number = 2200\n",
    "ip = '164.125.248.84'"
   ]
  },
  {
   "cell_type": "code",
   "execution_count": 24,
   "metadata": {},
   "outputs": [],
   "source": [
    "path_data = '/home/gecko/7DT/7DT-SED-Classifier/fit_result'\n",
    "path_save = '../fit_result'\n",
    "filename = 'fit_result.fits'"
   ]
  },
  {
   "attachments": {},
   "cell_type": "markdown",
   "metadata": {},
   "source": [
    "- Single"
   ]
  },
  {
   "cell_type": "code",
   "execution_count": 25,
   "metadata": {},
   "outputs": [],
   "source": [
    "fittype = 'KN'\n",
    "dist = '040Mpc'\n",
    "exptime = '060s'\n",
    "group = 'med25nm'\n",
    "\n",
    "path_relative = f'kn2{fittype}/{dist}/{exptime}/{group}/{filename}'\n",
    "path_from = f'{path_data}/{path_relative}'\n",
    "path_to = f'{path_save}/{path_relative}'\n",
    "\n",
    "if not os.path.exists(path_to):\n",
    "    os.makedirs(path_to)\n",
    "    print(f'Created directory {path_to}')"
   ]
  },
  {
   "cell_type": "code",
   "execution_count": 31,
   "metadata": {},
   "outputs": [
    {
     "data": {
      "text/plain": [
       "'kn2TDE/040Mpc/900s/broad_ugriz'"
      ]
     },
     "execution_count": 31,
     "metadata": {},
     "output_type": "execute_result"
    }
   ],
   "source": [
    "os.path.dirname(path_relative)"
   ]
  },
  {
   "cell_type": "code",
   "execution_count": 32,
   "metadata": {},
   "outputs": [
    {
     "name": "stdout",
     "output_type": "stream",
     "text": [
      "scp -P2200 gecko@164.125.248.84:/home/gecko/7DT/7DT-SED-Classifier/fit_result/kn2KN/040Mpc/060s/med25nm/fit_result.fits ../fit_result/kn2KN/040Mpc/060s/med25nm\n",
      "scp -P2200 gecko@164.125.248.84:/home/gecko/7DT/7DT-SED-Classifier/fit_result/kn2KN/040Mpc/060s/broad_griz/fit_result.fits ../fit_result/kn2KN/040Mpc/060s/broad_griz\n",
      "scp -P2200 gecko@164.125.248.84:/home/gecko/7DT/7DT-SED-Classifier/fit_result/kn2KN/040Mpc/060s/broad_ugriz/fit_result.fits ../fit_result/kn2KN/040Mpc/060s/broad_ugriz\n",
      "scp -P2200 gecko@164.125.248.84:/home/gecko/7DT/7DT-SED-Classifier/fit_result/kn2KN/040Mpc/180s/med25nm/fit_result.fits ../fit_result/kn2KN/040Mpc/180s/med25nm\n",
      "scp -P2200 gecko@164.125.248.84:/home/gecko/7DT/7DT-SED-Classifier/fit_result/kn2KN/040Mpc/180s/broad_griz/fit_result.fits ../fit_result/kn2KN/040Mpc/180s/broad_griz\n",
      "scp -P2200 gecko@164.125.248.84:/home/gecko/7DT/7DT-SED-Classifier/fit_result/kn2KN/040Mpc/180s/broad_ugriz/fit_result.fits ../fit_result/kn2KN/040Mpc/180s/broad_ugriz\n",
      "scp -P2200 gecko@164.125.248.84:/home/gecko/7DT/7DT-SED-Classifier/fit_result/kn2KN/040Mpc/300s/med25nm/fit_result.fits ../fit_result/kn2KN/040Mpc/300s/med25nm\n",
      "scp -P2200 gecko@164.125.248.84:/home/gecko/7DT/7DT-SED-Classifier/fit_result/kn2KN/040Mpc/300s/broad_griz/fit_result.fits ../fit_result/kn2KN/040Mpc/300s/broad_griz\n",
      "scp -P2200 gecko@164.125.248.84:/home/gecko/7DT/7DT-SED-Classifier/fit_result/kn2KN/040Mpc/300s/broad_ugriz/fit_result.fits ../fit_result/kn2KN/040Mpc/300s/broad_ugriz\n",
      "scp -P2200 gecko@164.125.248.84:/home/gecko/7DT/7DT-SED-Classifier/fit_result/kn2KN/040Mpc/600s/med25nm/fit_result.fits ../fit_result/kn2KN/040Mpc/600s/med25nm\n",
      "scp -P2200 gecko@164.125.248.84:/home/gecko/7DT/7DT-SED-Classifier/fit_result/kn2KN/040Mpc/600s/broad_griz/fit_result.fits ../fit_result/kn2KN/040Mpc/600s/broad_griz\n",
      "scp -P2200 gecko@164.125.248.84:/home/gecko/7DT/7DT-SED-Classifier/fit_result/kn2KN/040Mpc/600s/broad_ugriz/fit_result.fits ../fit_result/kn2KN/040Mpc/600s/broad_ugriz\n",
      "scp -P2200 gecko@164.125.248.84:/home/gecko/7DT/7DT-SED-Classifier/fit_result/kn2KN/040Mpc/900s/med25nm/fit_result.fits ../fit_result/kn2KN/040Mpc/900s/med25nm\n",
      "scp -P2200 gecko@164.125.248.84:/home/gecko/7DT/7DT-SED-Classifier/fit_result/kn2KN/040Mpc/900s/broad_griz/fit_result.fits ../fit_result/kn2KN/040Mpc/900s/broad_griz\n",
      "scp -P2200 gecko@164.125.248.84:/home/gecko/7DT/7DT-SED-Classifier/fit_result/kn2KN/040Mpc/900s/broad_ugriz/fit_result.fits ../fit_result/kn2KN/040Mpc/900s/broad_ugriz\n",
      "scp -P2200 gecko@164.125.248.84:/home/gecko/7DT/7DT-SED-Classifier/fit_result/kn2SNIa/040Mpc/060s/med25nm/fit_result.fits ../fit_result/kn2SNIa/040Mpc/060s/med25nm\n",
      "scp -P2200 gecko@164.125.248.84:/home/gecko/7DT/7DT-SED-Classifier/fit_result/kn2SNIa/040Mpc/060s/broad_griz/fit_result.fits ../fit_result/kn2SNIa/040Mpc/060s/broad_griz\n",
      "scp -P2200 gecko@164.125.248.84:/home/gecko/7DT/7DT-SED-Classifier/fit_result/kn2SNIa/040Mpc/060s/broad_ugriz/fit_result.fits ../fit_result/kn2SNIa/040Mpc/060s/broad_ugriz\n",
      "scp -P2200 gecko@164.125.248.84:/home/gecko/7DT/7DT-SED-Classifier/fit_result/kn2SNIa/040Mpc/180s/med25nm/fit_result.fits ../fit_result/kn2SNIa/040Mpc/180s/med25nm\n",
      "scp -P2200 gecko@164.125.248.84:/home/gecko/7DT/7DT-SED-Classifier/fit_result/kn2SNIa/040Mpc/180s/broad_griz/fit_result.fits ../fit_result/kn2SNIa/040Mpc/180s/broad_griz\n",
      "scp -P2200 gecko@164.125.248.84:/home/gecko/7DT/7DT-SED-Classifier/fit_result/kn2SNIa/040Mpc/180s/broad_ugriz/fit_result.fits ../fit_result/kn2SNIa/040Mpc/180s/broad_ugriz\n",
      "scp -P2200 gecko@164.125.248.84:/home/gecko/7DT/7DT-SED-Classifier/fit_result/kn2SNIa/040Mpc/300s/med25nm/fit_result.fits ../fit_result/kn2SNIa/040Mpc/300s/med25nm\n",
      "scp -P2200 gecko@164.125.248.84:/home/gecko/7DT/7DT-SED-Classifier/fit_result/kn2SNIa/040Mpc/300s/broad_griz/fit_result.fits ../fit_result/kn2SNIa/040Mpc/300s/broad_griz\n",
      "scp -P2200 gecko@164.125.248.84:/home/gecko/7DT/7DT-SED-Classifier/fit_result/kn2SNIa/040Mpc/300s/broad_ugriz/fit_result.fits ../fit_result/kn2SNIa/040Mpc/300s/broad_ugriz\n",
      "scp -P2200 gecko@164.125.248.84:/home/gecko/7DT/7DT-SED-Classifier/fit_result/kn2SNIa/040Mpc/600s/med25nm/fit_result.fits ../fit_result/kn2SNIa/040Mpc/600s/med25nm\n",
      "scp -P2200 gecko@164.125.248.84:/home/gecko/7DT/7DT-SED-Classifier/fit_result/kn2SNIa/040Mpc/600s/broad_griz/fit_result.fits ../fit_result/kn2SNIa/040Mpc/600s/broad_griz\n",
      "scp -P2200 gecko@164.125.248.84:/home/gecko/7DT/7DT-SED-Classifier/fit_result/kn2SNIa/040Mpc/600s/broad_ugriz/fit_result.fits ../fit_result/kn2SNIa/040Mpc/600s/broad_ugriz\n",
      "scp -P2200 gecko@164.125.248.84:/home/gecko/7DT/7DT-SED-Classifier/fit_result/kn2SNIa/040Mpc/900s/med25nm/fit_result.fits ../fit_result/kn2SNIa/040Mpc/900s/med25nm\n",
      "scp -P2200 gecko@164.125.248.84:/home/gecko/7DT/7DT-SED-Classifier/fit_result/kn2SNIa/040Mpc/900s/broad_griz/fit_result.fits ../fit_result/kn2SNIa/040Mpc/900s/broad_griz\n",
      "scp -P2200 gecko@164.125.248.84:/home/gecko/7DT/7DT-SED-Classifier/fit_result/kn2SNIa/040Mpc/900s/broad_ugriz/fit_result.fits ../fit_result/kn2SNIa/040Mpc/900s/broad_ugriz\n",
      "scp -P2200 gecko@164.125.248.84:/home/gecko/7DT/7DT-SED-Classifier/fit_result/kn2SNIax/040Mpc/060s/med25nm/fit_result.fits ../fit_result/kn2SNIax/040Mpc/060s/med25nm\n",
      "scp -P2200 gecko@164.125.248.84:/home/gecko/7DT/7DT-SED-Classifier/fit_result/kn2SNIax/040Mpc/060s/broad_griz/fit_result.fits ../fit_result/kn2SNIax/040Mpc/060s/broad_griz\n",
      "scp -P2200 gecko@164.125.248.84:/home/gecko/7DT/7DT-SED-Classifier/fit_result/kn2SNIax/040Mpc/060s/broad_ugriz/fit_result.fits ../fit_result/kn2SNIax/040Mpc/060s/broad_ugriz\n",
      "scp -P2200 gecko@164.125.248.84:/home/gecko/7DT/7DT-SED-Classifier/fit_result/kn2SNIax/040Mpc/180s/med25nm/fit_result.fits ../fit_result/kn2SNIax/040Mpc/180s/med25nm\n",
      "scp -P2200 gecko@164.125.248.84:/home/gecko/7DT/7DT-SED-Classifier/fit_result/kn2SNIax/040Mpc/180s/broad_griz/fit_result.fits ../fit_result/kn2SNIax/040Mpc/180s/broad_griz\n",
      "scp -P2200 gecko@164.125.248.84:/home/gecko/7DT/7DT-SED-Classifier/fit_result/kn2SNIax/040Mpc/180s/broad_ugriz/fit_result.fits ../fit_result/kn2SNIax/040Mpc/180s/broad_ugriz\n",
      "scp -P2200 gecko@164.125.248.84:/home/gecko/7DT/7DT-SED-Classifier/fit_result/kn2SNIax/040Mpc/300s/med25nm/fit_result.fits ../fit_result/kn2SNIax/040Mpc/300s/med25nm\n",
      "scp -P2200 gecko@164.125.248.84:/home/gecko/7DT/7DT-SED-Classifier/fit_result/kn2SNIax/040Mpc/300s/broad_griz/fit_result.fits ../fit_result/kn2SNIax/040Mpc/300s/broad_griz\n",
      "scp -P2200 gecko@164.125.248.84:/home/gecko/7DT/7DT-SED-Classifier/fit_result/kn2SNIax/040Mpc/300s/broad_ugriz/fit_result.fits ../fit_result/kn2SNIax/040Mpc/300s/broad_ugriz\n",
      "scp -P2200 gecko@164.125.248.84:/home/gecko/7DT/7DT-SED-Classifier/fit_result/kn2SNIax/040Mpc/600s/med25nm/fit_result.fits ../fit_result/kn2SNIax/040Mpc/600s/med25nm\n",
      "scp -P2200 gecko@164.125.248.84:/home/gecko/7DT/7DT-SED-Classifier/fit_result/kn2SNIax/040Mpc/600s/broad_griz/fit_result.fits ../fit_result/kn2SNIax/040Mpc/600s/broad_griz\n",
      "scp -P2200 gecko@164.125.248.84:/home/gecko/7DT/7DT-SED-Classifier/fit_result/kn2SNIax/040Mpc/600s/broad_ugriz/fit_result.fits ../fit_result/kn2SNIax/040Mpc/600s/broad_ugriz\n",
      "scp -P2200 gecko@164.125.248.84:/home/gecko/7DT/7DT-SED-Classifier/fit_result/kn2SNIax/040Mpc/900s/med25nm/fit_result.fits ../fit_result/kn2SNIax/040Mpc/900s/med25nm\n",
      "scp -P2200 gecko@164.125.248.84:/home/gecko/7DT/7DT-SED-Classifier/fit_result/kn2SNIax/040Mpc/900s/broad_griz/fit_result.fits ../fit_result/kn2SNIax/040Mpc/900s/broad_griz\n",
      "scp -P2200 gecko@164.125.248.84:/home/gecko/7DT/7DT-SED-Classifier/fit_result/kn2SNIax/040Mpc/900s/broad_ugriz/fit_result.fits ../fit_result/kn2SNIax/040Mpc/900s/broad_ugriz\n",
      "scp -P2200 gecko@164.125.248.84:/home/gecko/7DT/7DT-SED-Classifier/fit_result/kn2SNIabg/040Mpc/060s/med25nm/fit_result.fits ../fit_result/kn2SNIabg/040Mpc/060s/med25nm\n",
      "scp -P2200 gecko@164.125.248.84:/home/gecko/7DT/7DT-SED-Classifier/fit_result/kn2SNIabg/040Mpc/060s/broad_griz/fit_result.fits ../fit_result/kn2SNIabg/040Mpc/060s/broad_griz\n",
      "scp -P2200 gecko@164.125.248.84:/home/gecko/7DT/7DT-SED-Classifier/fit_result/kn2SNIabg/040Mpc/060s/broad_ugriz/fit_result.fits ../fit_result/kn2SNIabg/040Mpc/060s/broad_ugriz\n",
      "scp -P2200 gecko@164.125.248.84:/home/gecko/7DT/7DT-SED-Classifier/fit_result/kn2SNIabg/040Mpc/180s/med25nm/fit_result.fits ../fit_result/kn2SNIabg/040Mpc/180s/med25nm\n",
      "scp -P2200 gecko@164.125.248.84:/home/gecko/7DT/7DT-SED-Classifier/fit_result/kn2SNIabg/040Mpc/180s/broad_griz/fit_result.fits ../fit_result/kn2SNIabg/040Mpc/180s/broad_griz\n",
      "scp -P2200 gecko@164.125.248.84:/home/gecko/7DT/7DT-SED-Classifier/fit_result/kn2SNIabg/040Mpc/180s/broad_ugriz/fit_result.fits ../fit_result/kn2SNIabg/040Mpc/180s/broad_ugriz\n",
      "scp -P2200 gecko@164.125.248.84:/home/gecko/7DT/7DT-SED-Classifier/fit_result/kn2SNIabg/040Mpc/300s/med25nm/fit_result.fits ../fit_result/kn2SNIabg/040Mpc/300s/med25nm\n",
      "scp -P2200 gecko@164.125.248.84:/home/gecko/7DT/7DT-SED-Classifier/fit_result/kn2SNIabg/040Mpc/300s/broad_griz/fit_result.fits ../fit_result/kn2SNIabg/040Mpc/300s/broad_griz\n",
      "scp -P2200 gecko@164.125.248.84:/home/gecko/7DT/7DT-SED-Classifier/fit_result/kn2SNIabg/040Mpc/300s/broad_ugriz/fit_result.fits ../fit_result/kn2SNIabg/040Mpc/300s/broad_ugriz\n",
      "scp -P2200 gecko@164.125.248.84:/home/gecko/7DT/7DT-SED-Classifier/fit_result/kn2SNIabg/040Mpc/600s/med25nm/fit_result.fits ../fit_result/kn2SNIabg/040Mpc/600s/med25nm\n",
      "scp -P2200 gecko@164.125.248.84:/home/gecko/7DT/7DT-SED-Classifier/fit_result/kn2SNIabg/040Mpc/600s/broad_griz/fit_result.fits ../fit_result/kn2SNIabg/040Mpc/600s/broad_griz\n",
      "scp -P2200 gecko@164.125.248.84:/home/gecko/7DT/7DT-SED-Classifier/fit_result/kn2SNIabg/040Mpc/600s/broad_ugriz/fit_result.fits ../fit_result/kn2SNIabg/040Mpc/600s/broad_ugriz\n",
      "scp -P2200 gecko@164.125.248.84:/home/gecko/7DT/7DT-SED-Classifier/fit_result/kn2SNIabg/040Mpc/900s/med25nm/fit_result.fits ../fit_result/kn2SNIabg/040Mpc/900s/med25nm\n",
      "scp -P2200 gecko@164.125.248.84:/home/gecko/7DT/7DT-SED-Classifier/fit_result/kn2SNIabg/040Mpc/900s/broad_griz/fit_result.fits ../fit_result/kn2SNIabg/040Mpc/900s/broad_griz\n",
      "scp -P2200 gecko@164.125.248.84:/home/gecko/7DT/7DT-SED-Classifier/fit_result/kn2SNIabg/040Mpc/900s/broad_ugriz/fit_result.fits ../fit_result/kn2SNIabg/040Mpc/900s/broad_ugriz\n",
      "scp -P2200 gecko@164.125.248.84:/home/gecko/7DT/7DT-SED-Classifier/fit_result/kn2SNIbc/040Mpc/060s/med25nm/fit_result.fits ../fit_result/kn2SNIbc/040Mpc/060s/med25nm\n",
      "scp -P2200 gecko@164.125.248.84:/home/gecko/7DT/7DT-SED-Classifier/fit_result/kn2SNIbc/040Mpc/060s/broad_griz/fit_result.fits ../fit_result/kn2SNIbc/040Mpc/060s/broad_griz\n",
      "scp -P2200 gecko@164.125.248.84:/home/gecko/7DT/7DT-SED-Classifier/fit_result/kn2SNIbc/040Mpc/060s/broad_ugriz/fit_result.fits ../fit_result/kn2SNIbc/040Mpc/060s/broad_ugriz\n",
      "scp -P2200 gecko@164.125.248.84:/home/gecko/7DT/7DT-SED-Classifier/fit_result/kn2SNIbc/040Mpc/180s/med25nm/fit_result.fits ../fit_result/kn2SNIbc/040Mpc/180s/med25nm\n",
      "scp -P2200 gecko@164.125.248.84:/home/gecko/7DT/7DT-SED-Classifier/fit_result/kn2SNIbc/040Mpc/180s/broad_griz/fit_result.fits ../fit_result/kn2SNIbc/040Mpc/180s/broad_griz\n",
      "scp -P2200 gecko@164.125.248.84:/home/gecko/7DT/7DT-SED-Classifier/fit_result/kn2SNIbc/040Mpc/180s/broad_ugriz/fit_result.fits ../fit_result/kn2SNIbc/040Mpc/180s/broad_ugriz\n",
      "scp -P2200 gecko@164.125.248.84:/home/gecko/7DT/7DT-SED-Classifier/fit_result/kn2SNIbc/040Mpc/300s/med25nm/fit_result.fits ../fit_result/kn2SNIbc/040Mpc/300s/med25nm\n",
      "scp -P2200 gecko@164.125.248.84:/home/gecko/7DT/7DT-SED-Classifier/fit_result/kn2SNIbc/040Mpc/300s/broad_griz/fit_result.fits ../fit_result/kn2SNIbc/040Mpc/300s/broad_griz\n",
      "scp -P2200 gecko@164.125.248.84:/home/gecko/7DT/7DT-SED-Classifier/fit_result/kn2SNIbc/040Mpc/300s/broad_ugriz/fit_result.fits ../fit_result/kn2SNIbc/040Mpc/300s/broad_ugriz\n",
      "scp -P2200 gecko@164.125.248.84:/home/gecko/7DT/7DT-SED-Classifier/fit_result/kn2SNIbc/040Mpc/600s/med25nm/fit_result.fits ../fit_result/kn2SNIbc/040Mpc/600s/med25nm\n",
      "scp -P2200 gecko@164.125.248.84:/home/gecko/7DT/7DT-SED-Classifier/fit_result/kn2SNIbc/040Mpc/600s/broad_griz/fit_result.fits ../fit_result/kn2SNIbc/040Mpc/600s/broad_griz\n",
      "scp -P2200 gecko@164.125.248.84:/home/gecko/7DT/7DT-SED-Classifier/fit_result/kn2SNIbc/040Mpc/600s/broad_ugriz/fit_result.fits ../fit_result/kn2SNIbc/040Mpc/600s/broad_ugriz\n",
      "scp -P2200 gecko@164.125.248.84:/home/gecko/7DT/7DT-SED-Classifier/fit_result/kn2SNIbc/040Mpc/900s/med25nm/fit_result.fits ../fit_result/kn2SNIbc/040Mpc/900s/med25nm\n",
      "scp -P2200 gecko@164.125.248.84:/home/gecko/7DT/7DT-SED-Classifier/fit_result/kn2SNIbc/040Mpc/900s/broad_griz/fit_result.fits ../fit_result/kn2SNIbc/040Mpc/900s/broad_griz\n",
      "scp -P2200 gecko@164.125.248.84:/home/gecko/7DT/7DT-SED-Classifier/fit_result/kn2SNIbc/040Mpc/900s/broad_ugriz/fit_result.fits ../fit_result/kn2SNIbc/040Mpc/900s/broad_ugriz\n",
      "scp -P2200 gecko@164.125.248.84:/home/gecko/7DT/7DT-SED-Classifier/fit_result/kn2SNII-NMF/040Mpc/060s/med25nm/fit_result.fits ../fit_result/kn2SNII-NMF/040Mpc/060s/med25nm\n",
      "scp -P2200 gecko@164.125.248.84:/home/gecko/7DT/7DT-SED-Classifier/fit_result/kn2SNII-NMF/040Mpc/060s/broad_griz/fit_result.fits ../fit_result/kn2SNII-NMF/040Mpc/060s/broad_griz\n",
      "scp -P2200 gecko@164.125.248.84:/home/gecko/7DT/7DT-SED-Classifier/fit_result/kn2SNII-NMF/040Mpc/060s/broad_ugriz/fit_result.fits ../fit_result/kn2SNII-NMF/040Mpc/060s/broad_ugriz\n",
      "scp -P2200 gecko@164.125.248.84:/home/gecko/7DT/7DT-SED-Classifier/fit_result/kn2SNII-NMF/040Mpc/180s/med25nm/fit_result.fits ../fit_result/kn2SNII-NMF/040Mpc/180s/med25nm\n",
      "scp -P2200 gecko@164.125.248.84:/home/gecko/7DT/7DT-SED-Classifier/fit_result/kn2SNII-NMF/040Mpc/180s/broad_griz/fit_result.fits ../fit_result/kn2SNII-NMF/040Mpc/180s/broad_griz\n",
      "scp -P2200 gecko@164.125.248.84:/home/gecko/7DT/7DT-SED-Classifier/fit_result/kn2SNII-NMF/040Mpc/180s/broad_ugriz/fit_result.fits ../fit_result/kn2SNII-NMF/040Mpc/180s/broad_ugriz\n",
      "scp -P2200 gecko@164.125.248.84:/home/gecko/7DT/7DT-SED-Classifier/fit_result/kn2SNII-NMF/040Mpc/300s/med25nm/fit_result.fits ../fit_result/kn2SNII-NMF/040Mpc/300s/med25nm\n",
      "scp -P2200 gecko@164.125.248.84:/home/gecko/7DT/7DT-SED-Classifier/fit_result/kn2SNII-NMF/040Mpc/300s/broad_griz/fit_result.fits ../fit_result/kn2SNII-NMF/040Mpc/300s/broad_griz\n",
      "scp -P2200 gecko@164.125.248.84:/home/gecko/7DT/7DT-SED-Classifier/fit_result/kn2SNII-NMF/040Mpc/300s/broad_ugriz/fit_result.fits ../fit_result/kn2SNII-NMF/040Mpc/300s/broad_ugriz\n",
      "scp -P2200 gecko@164.125.248.84:/home/gecko/7DT/7DT-SED-Classifier/fit_result/kn2SNII-NMF/040Mpc/600s/med25nm/fit_result.fits ../fit_result/kn2SNII-NMF/040Mpc/600s/med25nm\n",
      "scp -P2200 gecko@164.125.248.84:/home/gecko/7DT/7DT-SED-Classifier/fit_result/kn2SNII-NMF/040Mpc/600s/broad_griz/fit_result.fits ../fit_result/kn2SNII-NMF/040Mpc/600s/broad_griz\n",
      "scp -P2200 gecko@164.125.248.84:/home/gecko/7DT/7DT-SED-Classifier/fit_result/kn2SNII-NMF/040Mpc/600s/broad_ugriz/fit_result.fits ../fit_result/kn2SNII-NMF/040Mpc/600s/broad_ugriz\n",
      "scp -P2200 gecko@164.125.248.84:/home/gecko/7DT/7DT-SED-Classifier/fit_result/kn2SNII-NMF/040Mpc/900s/med25nm/fit_result.fits ../fit_result/kn2SNII-NMF/040Mpc/900s/med25nm\n",
      "scp -P2200 gecko@164.125.248.84:/home/gecko/7DT/7DT-SED-Classifier/fit_result/kn2SNII-NMF/040Mpc/900s/broad_griz/fit_result.fits ../fit_result/kn2SNII-NMF/040Mpc/900s/broad_griz\n",
      "scp -P2200 gecko@164.125.248.84:/home/gecko/7DT/7DT-SED-Classifier/fit_result/kn2SNII-NMF/040Mpc/900s/broad_ugriz/fit_result.fits ../fit_result/kn2SNII-NMF/040Mpc/900s/broad_ugriz\n",
      "scp -P2200 gecko@164.125.248.84:/home/gecko/7DT/7DT-SED-Classifier/fit_result/kn2SLSN-I/040Mpc/060s/med25nm/fit_result.fits ../fit_result/kn2SLSN-I/040Mpc/060s/med25nm\n",
      "scp -P2200 gecko@164.125.248.84:/home/gecko/7DT/7DT-SED-Classifier/fit_result/kn2SLSN-I/040Mpc/060s/broad_griz/fit_result.fits ../fit_result/kn2SLSN-I/040Mpc/060s/broad_griz\n",
      "scp -P2200 gecko@164.125.248.84:/home/gecko/7DT/7DT-SED-Classifier/fit_result/kn2SLSN-I/040Mpc/060s/broad_ugriz/fit_result.fits ../fit_result/kn2SLSN-I/040Mpc/060s/broad_ugriz\n",
      "scp -P2200 gecko@164.125.248.84:/home/gecko/7DT/7DT-SED-Classifier/fit_result/kn2SLSN-I/040Mpc/180s/med25nm/fit_result.fits ../fit_result/kn2SLSN-I/040Mpc/180s/med25nm\n",
      "scp -P2200 gecko@164.125.248.84:/home/gecko/7DT/7DT-SED-Classifier/fit_result/kn2SLSN-I/040Mpc/180s/broad_griz/fit_result.fits ../fit_result/kn2SLSN-I/040Mpc/180s/broad_griz\n",
      "scp -P2200 gecko@164.125.248.84:/home/gecko/7DT/7DT-SED-Classifier/fit_result/kn2SLSN-I/040Mpc/180s/broad_ugriz/fit_result.fits ../fit_result/kn2SLSN-I/040Mpc/180s/broad_ugriz\n",
      "scp -P2200 gecko@164.125.248.84:/home/gecko/7DT/7DT-SED-Classifier/fit_result/kn2SLSN-I/040Mpc/300s/med25nm/fit_result.fits ../fit_result/kn2SLSN-I/040Mpc/300s/med25nm\n",
      "scp -P2200 gecko@164.125.248.84:/home/gecko/7DT/7DT-SED-Classifier/fit_result/kn2SLSN-I/040Mpc/300s/broad_griz/fit_result.fits ../fit_result/kn2SLSN-I/040Mpc/300s/broad_griz\n",
      "scp -P2200 gecko@164.125.248.84:/home/gecko/7DT/7DT-SED-Classifier/fit_result/kn2SLSN-I/040Mpc/300s/broad_ugriz/fit_result.fits ../fit_result/kn2SLSN-I/040Mpc/300s/broad_ugriz\n",
      "scp -P2200 gecko@164.125.248.84:/home/gecko/7DT/7DT-SED-Classifier/fit_result/kn2SLSN-I/040Mpc/600s/med25nm/fit_result.fits ../fit_result/kn2SLSN-I/040Mpc/600s/med25nm\n",
      "scp -P2200 gecko@164.125.248.84:/home/gecko/7DT/7DT-SED-Classifier/fit_result/kn2SLSN-I/040Mpc/600s/broad_griz/fit_result.fits ../fit_result/kn2SLSN-I/040Mpc/600s/broad_griz\n",
      "scp -P2200 gecko@164.125.248.84:/home/gecko/7DT/7DT-SED-Classifier/fit_result/kn2SLSN-I/040Mpc/600s/broad_ugriz/fit_result.fits ../fit_result/kn2SLSN-I/040Mpc/600s/broad_ugriz\n",
      "scp -P2200 gecko@164.125.248.84:/home/gecko/7DT/7DT-SED-Classifier/fit_result/kn2SLSN-I/040Mpc/900s/med25nm/fit_result.fits ../fit_result/kn2SLSN-I/040Mpc/900s/med25nm\n",
      "scp -P2200 gecko@164.125.248.84:/home/gecko/7DT/7DT-SED-Classifier/fit_result/kn2SLSN-I/040Mpc/900s/broad_griz/fit_result.fits ../fit_result/kn2SLSN-I/040Mpc/900s/broad_griz\n",
      "scp -P2200 gecko@164.125.248.84:/home/gecko/7DT/7DT-SED-Classifier/fit_result/kn2SLSN-I/040Mpc/900s/broad_ugriz/fit_result.fits ../fit_result/kn2SLSN-I/040Mpc/900s/broad_ugriz\n",
      "scp -P2200 gecko@164.125.248.84:/home/gecko/7DT/7DT-SED-Classifier/fit_result/kn2TDE/040Mpc/060s/med25nm/fit_result.fits ../fit_result/kn2TDE/040Mpc/060s/med25nm\n",
      "scp -P2200 gecko@164.125.248.84:/home/gecko/7DT/7DT-SED-Classifier/fit_result/kn2TDE/040Mpc/060s/broad_griz/fit_result.fits ../fit_result/kn2TDE/040Mpc/060s/broad_griz\n",
      "scp -P2200 gecko@164.125.248.84:/home/gecko/7DT/7DT-SED-Classifier/fit_result/kn2TDE/040Mpc/060s/broad_ugriz/fit_result.fits ../fit_result/kn2TDE/040Mpc/060s/broad_ugriz\n",
      "scp -P2200 gecko@164.125.248.84:/home/gecko/7DT/7DT-SED-Classifier/fit_result/kn2TDE/040Mpc/180s/med25nm/fit_result.fits ../fit_result/kn2TDE/040Mpc/180s/med25nm\n",
      "scp -P2200 gecko@164.125.248.84:/home/gecko/7DT/7DT-SED-Classifier/fit_result/kn2TDE/040Mpc/180s/broad_griz/fit_result.fits ../fit_result/kn2TDE/040Mpc/180s/broad_griz\n",
      "scp -P2200 gecko@164.125.248.84:/home/gecko/7DT/7DT-SED-Classifier/fit_result/kn2TDE/040Mpc/180s/broad_ugriz/fit_result.fits ../fit_result/kn2TDE/040Mpc/180s/broad_ugriz\n",
      "scp -P2200 gecko@164.125.248.84:/home/gecko/7DT/7DT-SED-Classifier/fit_result/kn2TDE/040Mpc/300s/med25nm/fit_result.fits ../fit_result/kn2TDE/040Mpc/300s/med25nm\n",
      "scp -P2200 gecko@164.125.248.84:/home/gecko/7DT/7DT-SED-Classifier/fit_result/kn2TDE/040Mpc/300s/broad_griz/fit_result.fits ../fit_result/kn2TDE/040Mpc/300s/broad_griz\n",
      "scp -P2200 gecko@164.125.248.84:/home/gecko/7DT/7DT-SED-Classifier/fit_result/kn2TDE/040Mpc/300s/broad_ugriz/fit_result.fits ../fit_result/kn2TDE/040Mpc/300s/broad_ugriz\n",
      "scp -P2200 gecko@164.125.248.84:/home/gecko/7DT/7DT-SED-Classifier/fit_result/kn2TDE/040Mpc/600s/med25nm/fit_result.fits ../fit_result/kn2TDE/040Mpc/600s/med25nm\n",
      "scp -P2200 gecko@164.125.248.84:/home/gecko/7DT/7DT-SED-Classifier/fit_result/kn2TDE/040Mpc/600s/broad_griz/fit_result.fits ../fit_result/kn2TDE/040Mpc/600s/broad_griz\n",
      "scp -P2200 gecko@164.125.248.84:/home/gecko/7DT/7DT-SED-Classifier/fit_result/kn2TDE/040Mpc/600s/broad_ugriz/fit_result.fits ../fit_result/kn2TDE/040Mpc/600s/broad_ugriz\n",
      "scp -P2200 gecko@164.125.248.84:/home/gecko/7DT/7DT-SED-Classifier/fit_result/kn2TDE/040Mpc/900s/med25nm/fit_result.fits ../fit_result/kn2TDE/040Mpc/900s/med25nm\n",
      "scp -P2200 gecko@164.125.248.84:/home/gecko/7DT/7DT-SED-Classifier/fit_result/kn2TDE/040Mpc/900s/broad_griz/fit_result.fits ../fit_result/kn2TDE/040Mpc/900s/broad_griz\n",
      "scp -P2200 gecko@164.125.248.84:/home/gecko/7DT/7DT-SED-Classifier/fit_result/kn2TDE/040Mpc/900s/broad_ugriz/fit_result.fits ../fit_result/kn2TDE/040Mpc/900s/broad_ugriz\n"
     ]
    }
   ],
   "source": [
    "fittypelist = ['KN', 'SNIa', 'SNIax', 'SNIabg', 'SNIbc', 'SNII-NMF', 'SLSN-I', 'TDE']\n",
    "exptimelist = ['060s', '180s', '300s', '600s', '900s',]\n",
    "grouplist = ['med25nm', 'broad_griz', 'broad_ugriz']\n",
    "\n",
    "for fittype in fittypelist:\n",
    "\tfor exptime in exptimelist:\n",
    "\t\tfor group in grouplist:\n",
    "\t\t\tpath_relative = f'kn2{fittype}/{dist}/{exptime}/{group}/{filename}'\n",
    "\t\t\tpath_from = f'{path_data}/{path_relative}'\n",
    "\t\t\tpath_to = f'{path_save}/{os.path.dirname(path_relative)}'\n",
    "\n",
    "\t\t\tif not os.path.exists(path_to):\n",
    "\t\t\t\tos.makedirs(path_to)\n",
    "\t\t\t\t# print(f'Created directory {path_to}')\n",
    "\t\t\t\n",
    "\t\t\tscpcom = f\"scp -P{port_number} {user}@{ip}:{path_from} {path_to}\"\n",
    "\t\t\tprint(scpcom)"
   ]
  },
  {
   "cell_type": "code",
   "execution_count": 33,
   "metadata": {},
   "outputs": [
    {
     "name": "stdout",
     "output_type": "stream",
     "text": [
      "scp -P2200 gecko@164.125.248.84:/home/gecko/7DT/7DT-SED-Classifier/fit_result/kn2TDE/040Mpc/900s/broad_ugriz/fit_result.fits ../fit_result/kn2TDE/040Mpc/900s/broad_ugriz\n"
     ]
    }
   ],
   "source": [
    "scpcom = f\"scp -P{port_number} {user}@{ip}:{path_from} {path_to}\"\n",
    "print(scpcom)"
   ]
  }
 ],
 "metadata": {
  "kernelspec": {
   "display_name": "sdt",
   "language": "python",
   "name": "python3"
  },
  "language_info": {
   "codemirror_mode": {
    "name": "ipython",
    "version": 3
   },
   "file_extension": ".py",
   "mimetype": "text/x-python",
   "name": "python",
   "nbconvert_exporter": "python",
   "pygments_lexer": "ipython3",
   "version": "3.11.0"
  },
  "orig_nbformat": 4
 },
 "nbformat": 4,
 "nbformat_minor": 2
}
