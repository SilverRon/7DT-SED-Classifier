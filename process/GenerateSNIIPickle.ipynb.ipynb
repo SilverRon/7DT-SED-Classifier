{
 "cells": [
  {
   "cell_type": "code",
   "execution_count": 1,
   "metadata": {},
   "outputs": [],
   "source": [
    "# %%\n",
    "from sklearn.ensemble import RandomForestRegressor\n",
    "from sklearn.model_selection import train_test_split\n",
    "import numpy as np\n",
    "import glob\n",
    "from astropy.table import Table\n",
    "import sys\n",
    "sys.path.append('..')\n",
    "from util.helper import *\n",
    "from util.sdtpy import *\n",
    "import inspect\n",
    "import matplotlib.pyplot as plt\n",
    "from astropy.time import Time\n",
    "#\n",
    "from astropy.io import ascii\n",
    "from lmfit import Model\n"
   ]
  },
  {
   "cell_type": "code",
   "execution_count": 41,
   "metadata": {},
   "outputs": [
    {
     "name": "stdout",
     "output_type": "stream",
     "text": [
      "384 models found\n"
     ]
    }
   ],
   "source": [
    "# %%\n",
    "snrcut = 3\n",
    "source = 'MOSFiT'\n",
    "fittype = 'SNII-NMF'\n",
    "verbose = True\n",
    "\n",
    "# %%\n",
    "path_model = f'../model/PLAsTiCC/{fittype}/SIMSED.{fittype}'\n",
    "models = sorted(glob.glob(f'{path_model}/*.fits'))\n",
    "print(f\"{len(models)} models found\") \n",
    "\n",
    "# %%\n",
    "# path_sedinfo = f'../model/PLAsTiCC/{fittype}/SIMSED.{fittype}/SED.INFO'\n",
    "# infotbl = tablize_sedinfo(path_sedinfo, models)\n",
    "infotbl = ascii.read(f'../model/PLAsTiCC/{fittype}/sedinfo.dat')\n",
    "infotbl['model'] = [f\"{path_model}/{model}\" for model in infotbl['model']] "
   ]
  },
  {
   "cell_type": "code",
   "execution_count": 42,
   "metadata": {},
   "outputs": [],
   "source": [
    "ii = 10\n",
    "model = models[ii]\n",
    "_mdtbl = Table.read(model)\n",
    "\n",
    "indx = np.where(\n",
    "    (_mdtbl['col1'] <= 30) &\n",
    "    (_mdtbl['col2'] >= 2000) &\n",
    "    (_mdtbl['col2'] <= 11000)\n",
    "    # (_mdtbl['col2'] <= 10000)\n",
    ")"
   ]
  },
  {
   "cell_type": "code",
   "execution_count": 43,
   "metadata": {},
   "outputs": [],
   "source": [
    "mdtbl = _mdtbl[indx]\n",
    "phasearr = np.unique(mdtbl['col1'])\n",
    "nphase = len(phasearr)\n",
    "lamarr = np.unique(mdtbl['col2'])\n",
    "nlam = len(lamarr)\n",
    "number_of_unique_phase, number_of_unique_wavelength = len(phasearr), len(lamarr)\n",
    "flux2darr = mdtbl['col3'].reshape(number_of_unique_phase, number_of_unique_wavelength)"
   ]
  },
  {
   "cell_type": "code",
   "execution_count": 44,
   "metadata": {},
   "outputs": [],
   "source": [
    "pc1arr = np.unique(infotbl['pc1'])\n",
    "number_of_pc1 = len(pc1arr)\n",
    "pc2arr = np.unique(infotbl['pc2'])\n",
    "number_of_pc2 = len(pc2arr)\n",
    "pc3arr = np.unique(infotbl['pc3'])\n",
    "number_of_pc3 = len(pc3arr)"
   ]
  },
  {
   "cell_type": "code",
   "execution_count": 54,
   "metadata": {},
   "outputs": [
    {
     "name": "stdout",
     "output_type": "stream",
     "text": [
      "number of spectrum list: 384\n",
      "length of spectrum: 22525\n",
      "length of total array: 8649600\n"
     ]
    }
   ],
   "source": [
    "number_of_spectrums = len(infotbl)\n",
    "length_of_spectrum = len(mdtbl)\n",
    "length_of_total_arr = number_of_spectrums * length_of_spectrum\n",
    "print(f\"number of spectrum list: {number_of_spectrums}\")\n",
    "print(f\"length of spectrum: {length_of_spectrum}\")\n",
    "print(f\"length of total array: {length_of_total_arr}\")\n",
    "\n",
    "fluxarr = np.zeros(length_of_total_arr)\n",
    "#\tEach spectrum list\n",
    "fluxarr = []\n",
    "for ss, spec in enumerate(infotbl['model']):\n",
    "\t_ = Table.read(spec)[indx]\n",
    "\tfluxarr.append(_['col3'])\n",
    "\t# st = int((ss*length_of_spectrum)+ss*(length_of_spectrum))\n",
    "\t# ed = int((ss*length_of_spectrum)+(ss+1)*(length_of_spectrum))\n",
    "\t# fluxarr[st:ed] = np.array(_['col3'])\n",
    "\n",
    "fluxarr = np.vstack(fluxarr)\n",
    "\n",
    "#\tFold the flux array\n",
    "data = fluxarr.reshape(number_of_pc1, number_of_pc2, number_of_pc3, nphase, nlam)\n"
   ]
  },
  {
   "cell_type": "code",
   "execution_count": 55,
   "metadata": {},
   "outputs": [],
   "source": [
    "interp = RegularGridInterpolator((pc1arr, pc2arr, pc3arr, phasearr, lamarr), data, method='linear')\n"
   ]
  },
  {
   "cell_type": "code",
   "execution_count": 64,
   "metadata": {},
   "outputs": [],
   "source": [
    "point = (\n",
    "    infotbl['pc1'][20],\n",
    "    infotbl['pc2'][30],\n",
    "    infotbl['pc3'][40],\n",
    "    phasearr[10],\n",
    "    lamarr\n",
    ")\n",
    "iflux = interp(point)"
   ]
  },
  {
   "cell_type": "code",
   "execution_count": 66,
   "metadata": {},
   "outputs": [
    {
     "data": {
      "text/plain": [
       "(3750.0, 9000.0)"
      ]
     },
     "execution_count": 66,
     "metadata": {},
     "output_type": "execute_result"
    },
    {
     "data": {
      "image/png": "[encoded data removed]",
      "text/plain": [
       "<Figure size 640x480 with 1 Axes>"
      ]
     },
     "metadata": {},
     "output_type": "display_data"
    }
   ],
   "source": [
    "plt.plot(lamarr, iflux)\n",
    "plt.xlim([3750, 9000])"
   ]
  },
  {
   "cell_type": "code",
   "execution_count": 67,
   "metadata": {},
   "outputs": [
    {
     "name": "stdout",
     "output_type": "stream",
     "text": [
      "Dumping interpolator to ../model/PLAsTiCC/SNII-NMF/SNII.pickle...\n",
      "\n",
      "DONE!\n",
      "\n"
     ]
    }
   ],
   "source": [
    "path_pickle = '../model/PLAsTiCC/SNII-NMF/SNII.pickle'\n",
    "if path_pickle is not None:\n",
    "\tprint(f\"Dumping interpolator to {path_pickle}...\")\n",
    "\twith open(path_pickle, 'wb') as f:\n",
    "\t\tpickle.dump(interp, f)\n",
    "\n",
    "print(f\"\\nDONE!\\n\")"
   ]
  }
 ],
 "metadata": {
  "kernelspec": {
   "display_name": "sdt",
   "language": "python",
   "name": "python3"
  },
  "language_info": {
   "codemirror_mode": {
    "name": "ipython",
    "version": 3
   },
   "file_extension": ".py",
   "mimetype": "text/x-python",
   "name": "python",
   "nbconvert_exporter": "python",
   "pygments_lexer": "ipython3",
   "version": "3.11.0"
  },
  "orig_nbformat": 4
 },
 "nbformat": 4,
 "nbformat_minor": 2
}
