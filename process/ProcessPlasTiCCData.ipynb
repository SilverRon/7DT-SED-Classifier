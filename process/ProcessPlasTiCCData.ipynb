{
 "cells": [
  {
   "attachments": {},
   "cell_type": "markdown",
   "metadata": {},
   "source": [
    "# Library"
   ]
  },
  {
   "cell_type": "code",
   "execution_count": 26,
   "metadata": {},
   "outputs": [],
   "source": [
    "#\tLibrary\n",
    "import os\n",
    "import glob\n",
    "import numpy as np\n",
    "import bisect\n",
    "import matplotlib.pyplot as plt\n",
    "\n",
    "#\tastropy\n",
    "from astropy.io import ascii\n",
    "from astropy import units as u\n",
    "from astropy.constants import c\n",
    "from astropy import constants as const\n",
    "from astropy.table import Table, vstack, hstack\n",
    "from astropy.cosmology import WMAP9 as cosmo\n",
    "from astropy.cosmology import z_at_value, WMAP9\n",
    "\n",
    "from scipy.optimize import curve_fit\n",
    "#\tspeclite\n",
    "import speclite.filters\n",
    "import speclite.redshift\n",
    "\n",
    "\n",
    "# import numpy as np\n",
    "# import astropy.io.ascii as ascii\n",
    "from scipy.interpolate import RegularGridInterpolator"
   ]
  },
  {
   "cell_type": "code",
   "execution_count": 2,
   "metadata": {},
   "outputs": [],
   "source": [
    "#\tplot setting\n",
    "import matplotlib as mpl\n",
    "from IPython.core.interactiveshell import InteractiveShell\n",
    "InteractiveShell.ast_node_interactivity = \"last_expr\"\n",
    "\n",
    "mpl.rcParams[\"axes.titlesize\"] = 14\n",
    "mpl.rcParams[\"axes.labelsize\"] = 20\n",
    "plt.rcParams['savefig.dpi'] = 200\n",
    "plt.rc('font', family='serif')"
   ]
  },
  {
   "attachments": {},
   "cell_type": "markdown",
   "metadata": {},
   "source": [
    "## Function"
   ]
  },
  {
   "cell_type": "code",
   "execution_count": 4,
   "metadata": {},
   "outputs": [],
   "source": [
    "def tablize_sedinfo(path_sedinfo, models):\n",
    "\tinfotbl = Table()\n",
    "\tinfotbl['model'] = models\n",
    "\t\n",
    "\twith open(path_sedinfo, 'r') as f:\n",
    "\t\tfor line in f:\n",
    "\t\t\t#\tFind parameter row\n",
    "\t\t\tif line.startswith('PARNAMES: '):\n",
    "\t\t\t\t# print(line)\n",
    "\t\t\t\theaders = line.split()[1:]\n",
    "\t\t\t\tbreak\n",
    "\t\t#\tGenerate empty columns\n",
    "\t\tfor header in headers:\n",
    "\t\t\tinfotbl[header] = 0.0\n",
    "\n",
    "\t\tfor ll, line in enumerate(f):\n",
    "\t\t\tif ll < len(infotbl):\n",
    "\t\t\t\t#\tValues\n",
    "\t\t\t\tif line.startswith('SED:'):\n",
    "\t\t\t\t\tvals = line.split()[2:]\n",
    "\t\t\t\t\tfor hh, header in enumerate(headers):\n",
    "\t\t\t\t\t\tinfotbl[header][ll] = float(vals[hh])\n",
    "\n",
    "\treturn infotbl\n",
    "\n",
    "def interpolate_seds(infotbl):\n",
    "\t\"\"\"\n",
    "\tInterpolates SED data from a list of model files.\n",
    "\n",
    "\tParameters\n",
    "\t----------\n",
    "\tinfotbl : astropy.table.Table\n",
    "\t\tTable containing information about the models to be interpolated. Must\n",
    "\t\tcontain a column named 'model' with the file paths of the model files.\n",
    "\n",
    "\tReturns\n",
    "\t-------\n",
    "\tinterp : scipy.interpolate.RegularGridInterpolator\n",
    "\t\tInterpolator object that can be used to calculate interpolated flux values\n",
    "\t\tat any point in the (stretch, color, phase, wavelength) space.\n",
    "\t\"\"\"\n",
    "\t#\t\n",
    "\t# stretcharr = np.unique(infotbl['stretch'])\n",
    "\t# colorarr = np.unique(infotbl['color'])\n",
    "\t#\tInitial info from dummy table\n",
    "\t#\tcol1: phase\n",
    "\t#\tcol2: wavelength\n",
    "\t#\tcol3: flux\n",
    "\t_mdltbl = Table.read(infotbl['model'][0])#, names=['col1', 'col2', 'col3'])\n",
    "\t#\tPhase & Wavelength Array\n",
    "\tphasearr = np.unique(_mdltbl['col1'])\n",
    "\twavelengtharr = np.unique(_mdltbl['col2'])\n",
    "\t#\tArray List for Parameters\n",
    "\tarrlist = []\n",
    "\tfor kk, key in enumerate(infotbl.keys()):\n",
    "\t\tif (key!= 'model') & ('INDEX' not in key):\n",
    "\t\t\tarrlist.append(np.unique(infotbl[key]))\n",
    "\tarrlist.append(phasearr)\n",
    "\tarrlist.append(wavelengtharr)\n",
    "\tnarrlist = [len(arr) for arr in arrlist]\n",
    "\n",
    "\t#\tNumber of flux elements\n",
    "\tnflux = len(_mdltbl['col3'])\n",
    "\tdel _mdltbl\n",
    "\t#\tEmpyty flux array to reshape and interpolate\n",
    "\tfluxarr = np.zeros(len(infotbl)*nflux)\n",
    "\t#\tRead the SED tables and gather the flux arrays\n",
    "\tfor mm, model in enumerate(infotbl['model']):\n",
    "\t\tprint(f\"[{mm+1}/{len(infotbl)}] {os.path.basename(model)}\", end='\\r')\n",
    "\t\tmdltbl = Table.read(model)#, names=['col1', 'col2', 'col3'],)\n",
    "\t\tflux = mdltbl['col3']\n",
    "\t\tfluxarr[mm*nflux:(mm+1)*nflux] = flux\n",
    "\t\tdel mdltbl\n",
    "\tprint(\"\\nDone!\")\n",
    "\t#\tReshape the flux array\n",
    "\trefluxarr = fluxarr.reshape(*narrlist)\n",
    "\t#    Interpolate\n",
    "\tinterp = RegularGridInterpolator([arr for arr in arrlist], refluxarr, method='linear')\n",
    "\treturn interp"
   ]
  },
  {
   "attachments": {},
   "cell_type": "markdown",
   "metadata": {},
   "source": [
    "# Initial Setting"
   ]
  },
  {
   "cell_type": "code",
   "execution_count": 3,
   "metadata": {},
   "outputs": [],
   "source": [
    "lammin = 3750\n",
    "lammax = 9000\n",
    "flamunit = u.erg / u.second / u.cm**2 / u.Angstrom\n",
    "fnuunit = u.erg / u.s / u.cm**2 / u.Hz\n",
    "lamunit = u.Angstrom"
   ]
  },
  {
   "cell_type": "code",
   "execution_count": 9,
   "metadata": {},
   "outputs": [],
   "source": [
    "path_model = '../data/PLAsTiCC'"
   ]
  },
  {
   "attachments": {},
   "cell_type": "markdown",
   "metadata": {},
   "source": [
    "Model\n",
    "- `col1`: phase [day]\n",
    "- `col2`: wavelength [AA]\n",
    "- `col3`: flux [Jy]"
   ]
  },
  {
   "attachments": {},
   "cell_type": "markdown",
   "metadata": {},
   "source": [
    "# Main"
   ]
  },
  {
   "attachments": {},
   "cell_type": "markdown",
   "metadata": {},
   "source": [
    "## `SNIa-91bg`"
   ]
  },
  {
   "cell_type": "code",
   "execution_count": 77,
   "metadata": {},
   "outputs": [],
   "source": [
    "# typ = 'TDE'\n",
    "# typ = 'SLSN-I'\n",
    "typ = 'SNIa-91bg'"
   ]
  },
  {
   "cell_type": "code",
   "execution_count": 78,
   "metadata": {},
   "outputs": [
    {
     "name": "stdout",
     "output_type": "stream",
     "text": [
      "Found 35 SEDs for SNIa-91bg\n"
     ]
    }
   ],
   "source": [
    "path_sedinfo = f\"{path_model}/{typ}/SIMSED.{typ}/SED.INFO\"\n",
    "\n",
    "#\tOriginal SED files (*.gz)\n",
    "_models = sorted(glob.glob(f\"{path_model}/{typ}/*/*.gz\"))\n",
    "#\tFaster SED files (*.fits)\n",
    "models = sorted(glob.glob(f\"{path_model}/{typ}/*/*.fits\"))\n",
    "\n",
    "#\tDetermine the number of SEDs (fits)\n",
    "if len(models) < len(_models):\n",
    "\tfor _model in _models:\n",
    "\t\tfitsfile = _model.replace('.gz', '.fits')\n",
    "\t\t#\tIf not exist, convert to fits file to speed up the I/O time\n",
    "\t\tif not os.path.exists(fitsfile):\n",
    "\t\t\tprint(f\"{os.path.basename(_model)} --> {os.path.basename(fitsfile)}\")\n",
    "\t\t\tascii.read(_model).write(fitsfile, overwrite=True)\n",
    "models = sorted(glob.glob(f\"{path_model}/{typ}/*/*.fits\"))\n",
    "\n",
    "print(f\"Found {len(models)} SEDs for {typ}\")"
   ]
  },
  {
   "cell_type": "code",
   "execution_count": 79,
   "metadata": {},
   "outputs": [
    {
     "name": "stdout",
     "output_type": "stream",
     "text": [
      "['model', 'stretch', 'color']\n",
      "model ../data/PLAsTiCC/SNIa-91bg/SIMSED.SNIa-91bg/91BG_ST0_C0.SED.fits ../data/PLAsTiCC/SNIa-91bg/SIMSED.SNIa-91bg/91BG_ST6_C4.SED.fits\n",
      "stretch 0.65 1.25\n",
      "color 0.0 1.0\n"
     ]
    }
   ],
   "source": [
    "infotbl = tablize_sedinfo(path_sedinfo, models)\n",
    "print(infotbl.keys())\n",
    "\n",
    "for key in infotbl.keys():\n",
    "\tmaxval = max(infotbl[key])\n",
    "\tminval = min(infotbl[key])\n",
    "\tprint(key, minval, maxval)"
   ]
  },
  {
   "cell_type": "code",
   "execution_count": 80,
   "metadata": {},
   "outputs": [
    {
     "name": "stdout",
     "output_type": "stream",
     "text": [
      "[35/35] 91BG_ST6_C4.SED.fits\n",
      "Done!\n"
     ]
    }
   ],
   "source": [
    "interp = interpolate_seds(infotbl)"
   ]
  },
  {
   "cell_type": "code",
   "execution_count": 75,
   "metadata": {},
   "outputs": [],
   "source": [
    "wavelengtgarr = np.arange(3750, 9000+1, 1)\n",
    "phase = +10\n",
    "\n",
    "point = (\n",
    "    infotbl['stretch'][0],\n",
    "    infotbl['color'][0],\n",
    "    phase, # Phase [day]\n",
    "    wavelengtgarr # Wavelength [AA]\n",
    ")\n",
    "#   Interpolated spectrum\n",
    "iflux = interp(point)"
   ]
  },
  {
   "cell_type": "code",
   "execution_count": 76,
   "metadata": {},
   "outputs": [
    {
     "data": {
      "text/plain": [
       "Text(0, 0.5, 'Flux')"
      ]
     },
     "execution_count": 76,
     "metadata": {},
     "output_type": "execute_result"
    },
    {
     "data": {
      "image/png": "[encoded data removed]",
      "text/plain": [
       "<Figure size 640x480 with 1 Axes>"
      ]
     },
     "metadata": {},
     "output_type": "display_data"
    }
   ],
   "source": [
    "plt.plot(wavelengtgarr, iflux)\n",
    "plt.xlabel('Wavelength [AA]')\n",
    "plt.ylabel('Flux')"
   ]
  }
 ],
 "metadata": {
  "kernelspec": {
   "display_name": "kn",
   "language": "python",
   "name": "python3"
  },
  "language_info": {
   "codemirror_mode": {
    "name": "ipython",
    "version": 3
   },
   "file_extension": ".py",
   "mimetype": "text/x-python",
   "name": "python",
   "nbconvert_exporter": "python",
   "pygments_lexer": "ipython3",
   "version": "3.10.8"
  },
  "orig_nbformat": 4
 },
 "nbformat": 4,
 "nbformat_minor": 2
}
