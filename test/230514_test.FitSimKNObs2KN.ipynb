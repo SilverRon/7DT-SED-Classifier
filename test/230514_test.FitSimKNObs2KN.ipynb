{
 "cells": [
  {
   "attachments": {},
   "cell_type": "markdown",
   "metadata": {},
   "source": [
    "# Library"
   ]
  },
  {
   "cell_type": "code",
   "execution_count": 248,
   "metadata": {},
   "outputs": [
    {
     "name": "stdout",
     "output_type": "stream",
     "text": [
      "Use `med25nm`, `med50nm`, `broad` as `group_name`\n"
     ]
    }
   ],
   "source": [
    "from astropy.table import Table\n",
    "import numpy as np\n",
    "import matplotlib.pyplot as plt\n",
    "from astropy.time import Time\n",
    "\n",
    "# from astropy.cosmology import WMAP9 as cosmo\n",
    "# from astropy.constants import c\n",
    "# from astropy import units as u\n",
    "# from astropy.cosmology import z_at_value\n",
    "import inspect\n",
    "\n",
    "import sys\n",
    "sys.path.append('..')\n",
    "from util.helper import *\n",
    "from util.sdtpy import *\n",
    "register_custom_filters_on_speclite('../util')"
   ]
  },
  {
   "attachments": {},
   "cell_type": "markdown",
   "metadata": {},
   "source": [
    "# Setting"
   ]
  },
  {
   "attachments": {},
   "cell_type": "markdown",
   "metadata": {},
   "source": [
    "- Define `speclite` object"
   ]
  },
  {
   "cell_type": "code",
   "execution_count": 249,
   "metadata": {},
   "outputs": [
    {
     "name": "stdout",
     "output_type": "stream",
     "text": [
      "Use `med25nm`, `med50nm`, `broad` as `group_name`\n"
     ]
    }
   ],
   "source": [
    "register_custom_filters_on_speclite('../util')\n",
    "filterset = [f\"{group}-{filte}\" for filte, _, group in filterlist_med25nm]\n",
    "bands = speclite.filters.load_filters(*filterset)"
   ]
  },
  {
   "attachments": {},
   "cell_type": "markdown",
   "metadata": {},
   "source": [
    "## Kilonova\n",
    "- GW170817-like morphology model"
   ]
  },
  {
   "cell_type": "code",
   "execution_count": 250,
   "metadata": {},
   "outputs": [],
   "source": [
    "import pickle\n",
    "with open('../model/gw170817-like.interp.pkl', 'rb') as f:\n",
    "\tinterp = pickle.load(f)\n",
    "# interp = interp_gw170817like_kn(path_kntable='/Users/paek/Research/7DT/7dtpy/3.table/kn_sim_cube_lite', path_pickle=None)\n",
    "# lamarr = np.arange(1003, 127695.+1, 1)"
   ]
  },
  {
   "cell_type": "code",
   "execution_count": 251,
   "metadata": {},
   "outputs": [
    {
     "name": "stdout",
     "output_type": "stream",
     "text": [
      "lam: 3000.000 - 10000.000 AA\n",
      "lamstep: 25 AA\n",
      "n_lam: 281\n"
     ]
    }
   ],
   "source": [
    "if 'med' in bands.names[0]:\n",
    "    #    Medium-band\n",
    "    bandwidth = 250 # [AA]\n",
    "else:\n",
    "    #\tBroad-band\n",
    "\tbandwidth = 1000 # [AA]\n",
    "\n",
    "# lammin = bands.effective_wavelengths.min().value-bandwidth*2\n",
    "# lammax = bands.effective_wavelengths.max().value+bandwidth*2\n",
    "lammin = 3000\n",
    "lammax = 10000\n",
    "\n",
    "lamstep = bandwidth/10\n",
    "lamarr = np.arange(lammin, lammax+lamstep, lamstep)\n",
    "\n",
    "print(f\"lam: {lammin:.3f} - {lammax:.3f} AA\")\n",
    "print(f\"lamstep: {lamstep:g} AA\")\n",
    "print(f\"n_lam: {len(lamarr)}\")"
   ]
  },
  {
   "attachments": {},
   "cell_type": "markdown",
   "metadata": {},
   "source": [
    "- Model parameters"
   ]
  },
  {
   "cell_type": "code",
   "execution_count": 252,
   "metadata": {},
   "outputs": [
    {
     "name": "stdout",
     "output_type": "stream",
     "text": [
      "md : 0.0288 (0.001 - 0.1)\n",
      "vd : 0.167 (0.05 - 0.3)\n",
      "mw : 0.0288 (0.001 - 0.1)\n",
      "vw : 0.167 (0.05 - 0.3)\n",
      "ang: 90.0 (0.0 - 1.8e+02)\n",
      "phase: 0.583 (0.25 - 1.0)\n"
     ]
    }
   ],
   "source": [
    "mdarr = np.array([0.001, 0.003, 0.01, 0.03, 0.1])\n",
    "vdarr = np.array([0.05, 0.15, 0.3])\n",
    "mwarr = np.array([0.001, 0.003, 0.01, 0.03, 0.1])\n",
    "vwarr = np.array([0.05, 0.15, 0.3])\n",
    "#\tViewing angle\n",
    "angarr = np.linspace(0, 180, 54)\n",
    "\n",
    "#\tPhase\n",
    "phasearr = np.array([0.25, 0.5, 1.0])\n",
    "\n",
    "#\tRedshift\n",
    "zarr = np.array([1e-4, 1e-3, 1e-2, 1e-1, 1e0])\n",
    "\n",
    "mdmin = np.min(mdarr)\n",
    "mdmax = np.max(mdarr)\n",
    "vdmin = np.min(vdarr)\n",
    "vdmax = np.max(vdarr)\n",
    "mwmin = np.min(mwarr)\n",
    "mwmax = np.max(mwarr)\n",
    "vwmin = np.min(vwarr)\n",
    "vwmax = np.max(vwarr)\n",
    "angmin = np.min(angarr)\n",
    "angmax = np.max(angarr)\n",
    "phasemin = np.min(phasearr)\n",
    "phasemax = np.max(phasearr)\n",
    "zmin = np.min(zarr)\n",
    "zmax = np.max(zarr)\n",
    "\n",
    "print(f\"md : {np.mean(mdarr):.3} ({mdmin:.3} - {mdmax:.3})\")\n",
    "print(f\"vd : {np.mean(vdarr):.3} ({vdmin:.3} - {vdmax:.3})\")\n",
    "print(f\"mw : {np.mean(mwarr):.3} ({mwmin:.3} - {mwmax:.3})\")\n",
    "print(f\"vw : {np.mean(vwarr):.3} ({vwmin:.3} - {vwmax:.3})\")\n",
    "print(f\"ang: {np.mean(angarr):.3} ({angmin:.3} - {angmax:.3})\")\n",
    "print(f\"phase: {np.mean(phasearr):.3} ({phasemin:.3} - {phasemax:.3})\")"
   ]
  },
  {
   "attachments": {},
   "cell_type": "markdown",
   "metadata": {},
   "source": [
    "- Function to fit"
   ]
  },
  {
   "cell_type": "code",
   "execution_count": 253,
   "metadata": {},
   "outputs": [],
   "source": [
    "# def func(x, nmd, nvd, nmw, nvw, nang, nphase, nz):\n",
    "\n",
    "# \tisotropic_factor = 54.\n",
    "# \tz0 = 0\n",
    "\n",
    "# \t#\tDenormalize the parameters\n",
    "# \tmd = nmd * (mdmax - mdmin) + mdmin\n",
    "# \tvd = nvd * (vdmax - vdmin) + vdmin\n",
    "# \tmw = nmw * (mwmax - mwmin) + mwmin\n",
    "# \tvw = nvw * (vwmax - vwmin) + vwmin\n",
    "# \tang = nang * (angmax - angmin) + angmin\n",
    "# \tphase = nphase * (phasemax - phasemin) + phasemin\n",
    "# \tz = nz * (zmax - zmin) + zmin\n",
    "\n",
    "# \t#\tInput\n",
    "# \tpoint = (\n",
    "# \t\tmd,\n",
    "# \t\tvd,\n",
    "# \t\tmw,\n",
    "# \t\tvw,\n",
    "# \t\tang,\n",
    "# \t\tphase,\n",
    "# \t\tlamarr,\n",
    "# \t)\n",
    "\n",
    "# \tiflux = interp(point)*isotropic_factor\n",
    "# \t(zspappflam, zsplam) = apply_redshift_on_spectrum(iflux*flamunit, lamarr*lamunit, z, z0)\n",
    "# \tmags = bands.get_ab_magnitudes(zspappflam, zsplam)\n",
    "\n",
    "# \tspmag = np.array([mags[key][0] for key in mags.keys()])\n",
    "# \tspfnu = (spmag*u.ABmag).to(u.uJy).value\n",
    "\n",
    "# \treturn spfnu"
   ]
  },
  {
   "cell_type": "code",
   "execution_count": 254,
   "metadata": {},
   "outputs": [],
   "source": [
    "def func(x, md, vd, mw, vw, ang, phase, z):\n",
    "\n",
    "\tisotropic_factor = 54.\n",
    "\tz0 = 0\n",
    "\n",
    "\t#\tInput\n",
    "\tpoint = (\n",
    "\t\tmd,\n",
    "\t\tvd,\n",
    "\t\tmw,\n",
    "\t\tvw,\n",
    "\t\tang,\n",
    "\t\tphase,\n",
    "\t\tlamarr,\n",
    "\t)\n",
    "\n",
    "\tiflux = interp(point)*isotropic_factor\n",
    "\t(zspappflam, zsplam) = apply_redshift_on_spectrum(iflux*flamunit, lamarr*lamunit, z, z0)\n",
    "\tmags = bands.get_ab_magnitudes(*bands.pad_spectrum(zspappflam, zsplam))\n",
    "\n",
    "\tspmag = np.array([mags[key][0] for key in mags.keys()])\n",
    "\tspfnu = (spmag*u.ABmag).to(u.uJy).value\n",
    "\n",
    "\treturn spfnu"
   ]
  },
  {
   "attachments": {},
   "cell_type": "markdown",
   "metadata": {},
   "source": [
    "## Variables to set"
   ]
  },
  {
   "cell_type": "code",
   "execution_count": 255,
   "metadata": {},
   "outputs": [],
   "source": [
    "snrcut = 3\n",
    "source = 'wollaeger+21'\n",
    "fittype = 'KN'\n",
    "verbose = False"
   ]
  },
  {
   "cell_type": "code",
   "execution_count": 256,
   "metadata": {},
   "outputs": [],
   "source": [
    "intype = 'kn'\n",
    "indist = 40\n",
    "inexptime = 180\n",
    "group = 'med25nm'"
   ]
  },
  {
   "attachments": {},
   "cell_type": "markdown",
   "metadata": {},
   "source": [
    "## Input Tables"
   ]
  },
  {
   "cell_type": "code",
   "execution_count": 257,
   "metadata": {},
   "outputs": [],
   "source": [
    "path_input = f'../input/{intype}/{indist:0>3}Mpc/{inexptime:0>3}s/{group}'\n",
    "path_output = f'../fit_result/{intype}2{fittype}/{indist:0>3}Mpc/{inexptime:0>3}s/{group}'\n",
    "if not os.path.exists(path_output):\n",
    "\tos.makedirs(path_output)"
   ]
  },
  {
   "cell_type": "code",
   "execution_count": null,
   "metadata": {},
   "outputs": [],
   "source": [
    "outfits = f\"{path_output}/fit_result.fits\""
   ]
  },
  {
   "cell_type": "code",
   "execution_count": 258,
   "metadata": {},
   "outputs": [],
   "source": [
    "intablelist = sorted(glob.glob(f\"{path_input}/obs.*.fits\"))"
   ]
  },
  {
   "cell_type": "code",
   "execution_count": 259,
   "metadata": {},
   "outputs": [],
   "source": [
    "outbl = Table()\n",
    "#\tInput data\n",
    "outbl['input_table'] = [os.path.basename(intable) for intable in intablelist]\n",
    "#\tDetection / Fit\n",
    "outbl['ndet'] = 0\n",
    "outbl['det_filters'] = \" \"*200\n",
    "outbl['det'] = False\n",
    "outbl['fit'] = False\n",
    "#\tFitted Parameters\n",
    "outbl['z'] = 0.\n",
    "outbl['t'] = 0.\n",
    "outbl['md'] = 0.\n",
    "outbl['vd'] = 0.\n",
    "outbl['mw'] = 0.\n",
    "outbl['vw'] = 0.\n",
    "outbl['ang'] = 0.\n",
    "#\tError\n",
    "outbl['zerr'] = 0.\n",
    "outbl['terr'] = 0.\n",
    "outbl['mderr'] = 0.\n",
    "outbl['vderr'] = 0.\n",
    "outbl['mwerr'] = 0.\n",
    "outbl['vwerr'] = 0.\n",
    "outbl['angerr'] = 0.\n",
    "\n",
    "#\tFit Results\n",
    "outbl['free_params'] = 0\n",
    "outbl['dof'] = 0\n",
    "outbl['chisq'] = 0.\n",
    "outbl['chisqdof'] = 0.\n",
    "outbl['bic'] = 0.\n",
    "#\tMeta\n",
    "outbl.meta['fittype'] = fittype\n",
    "outbl.meta['source'] = source\n",
    "outbl.meta['intype'] = intype\n",
    "outbl.meta['indist[Mpc]'] = indist\n",
    "outbl.meta['inexptime[s]'] = inexptime\n",
    "outbl.meta['group'] = group\n",
    "outbl.meta['date'] = Time.now().isot\n",
    "\n",
    "# %%\n",
    "#\tTemp Table\n",
    "_mdtbl = Table.read(intablelist[0])\n",
    "for key, val in _mdtbl.meta.items():\n",
    "\tif key in ['MD', 'VD', 'MW', 'VW', 'ANG', 'PHASE', 'REDSHIFT',]:\n",
    "\t\tif type(val) is str:\n",
    "\t\t\toutbl[key] = ' '*10\n",
    "\t\telif type(val) is float:\n",
    "\t\t\toutbl[key] = 0.0\n",
    "\t\telif type(val) is int:\n",
    "\t\t\toutbl[key] = 0\n",
    "\t\t# print(key, val)\n"
   ]
  },
  {
   "cell_type": "code",
   "execution_count": 260,
   "metadata": {},
   "outputs": [],
   "source": [
    "ii = 10\n",
    "intable = intablelist[ii]\n",
    "intbl = Table.read(intable)"
   ]
  },
  {
   "attachments": {},
   "cell_type": "markdown",
   "metadata": {},
   "source": [
    "- Detection"
   ]
  },
  {
   "cell_type": "code",
   "execution_count": 261,
   "metadata": {},
   "outputs": [],
   "source": [
    "indx_det = np.where(intbl['snr']>snrcut)\n",
    "filterlist_det = list(intbl['filter'][indx_det])\n",
    "filterlist_str = \",\".join(filterlist_det)"
   ]
  },
  {
   "cell_type": "code",
   "execution_count": 262,
   "metadata": {},
   "outputs": [],
   "source": [
    "filterset = [f\"{group}-{filte}\" for filte, _, group in filterlist_med25nm if filte in filterlist_det]\n",
    "bands = speclite.filters.load_filters(*filterset)"
   ]
  },
  {
   "cell_type": "code",
   "execution_count": 263,
   "metadata": {},
   "outputs": [
    {
     "name": "stdout",
     "output_type": "stream",
     "text": [
      "number of detections: 18\n",
      "detection: True\n"
     ]
    }
   ],
   "source": [
    "ndet = len(filterset)\n",
    "print(f\"number of detections: {ndet}\")\n",
    "detection = np.any(intbl['snr'] > 5)\n",
    "print(f\"detection: {detection}\")"
   ]
  },
  {
   "attachments": {},
   "cell_type": "markdown",
   "metadata": {},
   "source": [
    "- Answer parameters"
   ]
  },
  {
   "cell_type": "code",
   "execution_count": 264,
   "metadata": {},
   "outputs": [],
   "source": [
    "inmd = intbl.meta['MD']\n",
    "invd = intbl.meta['VD']\n",
    "inmw = intbl.meta['MW']\n",
    "invw = intbl.meta['VW']\n",
    "inang = intbl.meta['ANG']\n",
    "inphase = intbl.meta['PHASE']\n",
    "inz = intbl.meta['REDSHIFT']"
   ]
  },
  {
   "attachments": {},
   "cell_type": "markdown",
   "metadata": {},
   "source": [
    "- Normalized answer parameters"
   ]
  },
  {
   "cell_type": "code",
   "execution_count": 265,
   "metadata": {},
   "outputs": [
    {
     "name": "stdout",
     "output_type": "stream",
     "text": [
      "ninmd = 0.0\n",
      "ninvd = 0.0\n",
      "ninmw = 0.0\n",
      "ninvw = 0.0\n",
      "ninang = 0.333\n",
      "ninphase = 0.333\n",
      "ninz = 0.00908\n"
     ]
    }
   ],
   "source": [
    "#\tNormalized initial guess\n",
    "ninmd = (inmd - mdmin) / (mdmax - mdmin)\n",
    "ninvd = (invd - vdmin) / (vdmax - vdmin)\n",
    "ninmw = (inmw - mwmin) / (mwmax - mwmin)\n",
    "ninvw = (invw - vwmin) / (vwmax - vwmin)\n",
    "ninang = (inang - angmin) / (angmax - angmin)\n",
    "ninphase = (inphase - phasemin) / (phasemax - phasemin)\n",
    "ninz = (inz - zmin) / (zmax - zmin)\n",
    "\n",
    "print(f\"ninmd = {ninmd:.3}\")\n",
    "print(f\"ninvd = {ninvd:.3}\")\n",
    "print(f\"ninmw = {ninmw:.3}\")\n",
    "print(f\"ninvw = {ninvw:.3}\")\n",
    "print(f\"ninang = {ninang:.3}\")\n",
    "print(f\"ninphase = {ninphase:.3}\")\n",
    "print(f\"ninz = {ninz:.3}\")"
   ]
  },
  {
   "attachments": {},
   "cell_type": "markdown",
   "metadata": {},
   "source": [
    "- Min/max value"
   ]
  },
  {
   "cell_type": "code",
   "execution_count": 266,
   "metadata": {},
   "outputs": [
    {
     "name": "stdout",
     "output_type": "stream",
     "text": [
      "md: 0.001-0.0011\n",
      "vd: 0.05-0.055\n",
      "mw: 0.001-0.0011\n",
      "vw: 0.05-0.055\n",
      "ang: 54.0-66.0\n",
      "phase: 0.45-0.55\n"
     ]
    }
   ],
   "source": [
    "mdlo = mdarr.min() if inmd * 0.9 < mdarr.min() else inmd * 0.9\n",
    "mdup = mdarr.max() if inmd * 1.1 > mdarr.max() else inmd * 1.1\n",
    "vdlo = vdarr.min() if invd * 0.9 < vdarr.min() else invd * 0.9\n",
    "vdup = vdarr.max() if invd * 1.1 > vdarr.max() else invd * 1.1\n",
    "mwlo = mwarr.min() if inmw * 0.9 < mwarr.min() else inmw * 0.9\n",
    "mwup = mwarr.max() if inmw * 1.1 > mwarr.max() else inmw * 1.1\n",
    "vwlo = vwarr.min() if invw * 0.9 < vwarr.max() else invw * 0.9\n",
    "vwup = vwarr.max() if invw * 1.1 > vwarr.max() else invw * 1.1\n",
    "anglo = angarr.min() if inang * 0.9 < angarr.min() else inang * 0.9\n",
    "angup = angarr.max() if inang * 1.1 > angarr.max() else inang * 1.1\n",
    "phaselo = phasearr.min() if inphase * 0.9 < phasearr.min() else inphase * 0.9\n",
    "phaseup = phasearr.max() if inphase * 1.1 > phasearr.max() else inphase * 1.1\n",
    "\n",
    "print(f\"md: {mdlo:.3}-{mdup:.3}\")\n",
    "print(f\"vd: {vdlo:.3}-{vdup:.3}\")\n",
    "print(f\"mw: {mwlo:.3}-{mwup:.3}\")\n",
    "print(f\"vw: {vwlo:.3}-{vwup:.3}\")\n",
    "print(f\"ang: {anglo:.3}-{angup:.3}\")\n",
    "print(f\"phase: {phaselo:.3}-{phaseup:.3}\")\n"
   ]
  },
  {
   "attachments": {},
   "cell_type": "markdown",
   "metadata": {},
   "source": [
    "- Normalized boundaries"
   ]
  },
  {
   "cell_type": "code",
   "execution_count": 267,
   "metadata": {},
   "outputs": [
    {
     "name": "stdout",
     "output_type": "stream",
     "text": [
      "nmdlo: 0.0-0.1\n",
      "nvdlo: 0.0-0.1\n",
      "nmwlo: 0.0-0.1\n",
      "nvwlo: 0.0-0.1\n",
      "nanglo: 0.233-0.433\n",
      "nphaselo: 0.233-0.433\n",
      "ninzlo: 0.0-0.00908\n"
     ]
    }
   ],
   "source": [
    "nmdlo = 0. if ninmd - 0.1 < 0. else ninmd - 0.1\n",
    "nmdup = 1. if ninmd + 0.1 > 1. else ninmd + 0.1\n",
    "nvdlo = 0. if ninvd - 0.1 < 0. else ninvd - 0.1\n",
    "nvdup = 1. if ninvd + 0.1 > 1. else ninvd + 0.1\n",
    "nmwlo = 0. if ninmw - 0.1 < 0. else ninmw - 0.1\n",
    "nmwup = 1. if ninmw + 0.1 > 1. else ninmw + 0.1\n",
    "nvwlo = 0. if ninvw - 0.1 < 0. else ninvw - 0.1\n",
    "nvwup = 1. if ninvw + 0.1 > 1. else ninvw + 0.1\n",
    "nanglo = 0. if ninang - 0.1 < 0. else ninang - 0.1\n",
    "nangup = 1. if ninang + 0.1 > 1. else ninang + 0.1\n",
    "nphaselo = 0. if ninphase - 0.1 < 0. else ninphase - 0.1\n",
    "nphaseup = 1. if ninphase + 0.1 > 1. else ninphase + 0.1\n",
    "ninzlo = 0. if ninz - 0.1 < 0. else ninz * 0\n",
    "ninzup = 1. if ninz + 0.1 > 1. else ninz * 1\n",
    "\n",
    "print(f\"nmdlo: {nmdlo:.3}-{nmdup:.3}\")\n",
    "print(f\"nvdlo: {nvdlo:.3}-{nvdup:.3}\")\n",
    "print(f\"nmwlo: {nmwlo:.3}-{nmwup:.3}\")\n",
    "print(f\"nvwlo: {nvwlo:.3}-{nvwup:.3}\")\n",
    "print(f\"nanglo: {nanglo:.3}-{nangup:.3}\")\n",
    "print(f\"nphaselo: {nphaselo:.3}-{nphaseup:.3}\")\n",
    "print(f\"ninzlo: {ninzlo:.3}-{ninzup:.3}\")"
   ]
  },
  {
   "attachments": {},
   "cell_type": "markdown",
   "metadata": {},
   "source": [
    "# Fitting"
   ]
  },
  {
   "attachments": {},
   "cell_type": "markdown",
   "metadata": {},
   "source": [
    "- Input data"
   ]
  },
  {
   "cell_type": "code",
   "execution_count": 268,
   "metadata": {},
   "outputs": [],
   "source": [
    "xdata = intbl['fnuobs'].data[indx_det]\n",
    "ydata = xdata\n",
    "sigma = intbl['fnuerr'].data[indx_det]"
   ]
  },
  {
   "cell_type": "code",
   "execution_count": 269,
   "metadata": {},
   "outputs": [],
   "source": [
    "# p0 = (\n",
    "#     #   answer\n",
    "# \tninmd, ninvd, ninmw, ninvw, ninang, ninphase, ninz,\n",
    "#     #   mean\n",
    "# \t# 0.5, 0.5, 0.5, 0.5, 0.5, ninphase, ninz,\n",
    "# )\n",
    "# bounds = (\n",
    "#     #   answer boundary\n",
    "# \t# (0, 0, 0, 0, 0, 0, 0,),\n",
    "#     # (1, 1, 1, 1, 1, 1, 1,),\n",
    "#     (nmdlo, nvdlo, nmwlo, nvwlo, nanglo, nphaselo, ninzlo),\n",
    "#     (nmdup, nvdup, nmwup, nvwup, nangup, nphaseup, ninzup)\n",
    "# )"
   ]
  },
  {
   "cell_type": "code",
   "execution_count": 270,
   "metadata": {},
   "outputs": [],
   "source": [
    "p0 = (\n",
    "\tinmd, invd, inmw, invw, inang, inphase, inz,\n",
    ")\n",
    "bounds = (\n",
    "    #   min-max boundary\n",
    "    # (mdmin, vdmin, mwmin, vwmin, angmin, 0.125, 1e-6),\n",
    "    # (mdmax, vdmax, mwmax, vwmax, angmax, 1.0, 1e0)\n",
    "    #   answer boundary\n",
    "    (mdlo, vdlo, mwlo, vwlo, anglo, phaselo, inz*0.9),\n",
    "    (mdup, vdup, mwup, vwup, angup, phaseup, inz*1.1)\n",
    ")"
   ]
  },
  {
   "cell_type": "code",
   "execution_count": 271,
   "metadata": {},
   "outputs": [],
   "source": [
    "n_free_param = len(inspect.signature(func).parameters)-1"
   ]
  },
  {
   "cell_type": "code",
   "execution_count": 272,
   "metadata": {},
   "outputs": [],
   "source": [
    "#\tDefault `fit`\n",
    "fit = False\n",
    "try:\n",
    "\tpopt, pcov = curve_fit(\n",
    "\t\tfunc,\n",
    "\t\txdata=xdata,\n",
    "\t\tydata=ydata,\n",
    "\t\tsigma=sigma,\n",
    "\t\tp0=p0,\n",
    "\t\tabsolute_sigma=True,\n",
    "\t\tcheck_finite=True,\n",
    "\t\tbounds=bounds,\n",
    "\t\tmethod='trf',\n",
    "\t\t# max_nfev=1e4,\n",
    "\t)\n",
    "\tfit = True\n",
    "except Exception as e:\n",
    "\t# print(e)\n",
    "\toutlog = f\"{path_output}/{os.path.basename(intable).replace('obs', 'fit').replace('fits', 'log')}\"\n",
    "\tf = open(outlog, 'w')\n",
    "\tf.write(e)\n",
    "\tf.close()\n",
    "\tfit = False"
   ]
  },
  {
   "cell_type": "code",
   "execution_count": 273,
   "metadata": {},
   "outputs": [],
   "source": [
    "#\tFitting result\n",
    "r = ydata.data - func(xdata, *popt)\n",
    "n_free_param = len(inspect.signature(func).parameters)-1\n",
    "dof = ndet - n_free_param\n",
    "chisq_i = (r / sigma) ** 2\n",
    "chisq = np.sum(chisq_i)\n",
    "chisqdof = chisq/dof\n",
    "bic = chisq + n_free_param*np.log(ndet)\n",
    "perr = np.sqrt(np.diag(pcov))"
   ]
  },
  {
   "cell_type": "code",
   "execution_count": 274,
   "metadata": {},
   "outputs": [
    {
     "name": "stdout",
     "output_type": "stream",
     "text": [
      "md=0.0011\n",
      "vd=0.055\n",
      "mw=0.0011\n",
      "vw=0.05\n",
      "ang=54.0\n",
      "phase=0.514\n",
      "z=0.00927\n"
     ]
    }
   ],
   "source": [
    "md = popt[0]\n",
    "vd = popt[1]\n",
    "mw = popt[2]\n",
    "vw = popt[3]\n",
    "ang = popt[4]\n",
    "phase = popt[5]\n",
    "z = popt[6]\n",
    "\n",
    "print(f\"md={md:.3}\")\n",
    "print(f\"vd={vd:.3}\")\n",
    "print(f\"mw={mw:.3}\")\n",
    "print(f\"vw={vw:.3}\")\n",
    "print(f\"ang={ang:.3}\")\n",
    "print(f\"phase={phase:.3}\")\n",
    "print(f\"z={z:.3}\")"
   ]
  },
  {
   "cell_type": "code",
   "execution_count": null,
   "metadata": {},
   "outputs": [],
   "source": [
    "outpng = f\"{path_output}/{os.path.basename(intable).replace('obs', 'fit').replace('fits', 'png')}\"\n"
   ]
  },
  {
   "cell_type": "code",
   "execution_count": 282,
   "metadata": {},
   "outputs": [],
   "source": [
    "#\tDetection / Fit\n",
    "outbl['ndet'][ii] = ndet\n",
    "outbl['det_filters'][ii] = filterlist_str\n",
    "outbl['det'][ii] = detection\n",
    "outbl['fit'][ii] = fit\n",
    "#\tFitted Parameters\n",
    "outbl['z'][ii] = z\n",
    "outbl['t'][ii] = phase\n",
    "outbl['md'][ii] = md\n",
    "outbl['vd'][ii] = vd\n",
    "outbl['mw'][ii] = mw\n",
    "outbl['vw'][ii] = vw\n",
    "outbl['ang'][ii] = ang\n",
    "#\tError\n",
    "outbl['zerr'][ii] = perr[6]\n",
    "outbl['terr'][ii] = perr[5]\n",
    "outbl['mderr'][ii] = perr[0]\n",
    "outbl['vderr'][ii] = perr[1]\n",
    "outbl['mwerr'][ii] = perr[2]\n",
    "outbl['vwerr'][ii] = perr[3]\n",
    "outbl['angerr'][ii] = perr[4]\n",
    "#\tFit Results\n",
    "outbl['free_params'][ii] = n_free_param\n",
    "outbl['dof'][ii] = dof\n",
    "outbl['chisq'][ii] = chisq\n",
    "outbl['chisqdof'][ii] = chisqdof\n",
    "outbl['bic'][ii] = bic\n"
   ]
  },
  {
   "cell_type": "code",
   "execution_count": 283,
   "metadata": {},
   "outputs": [],
   "source": [
    "#\tTemp Table\n",
    "for key, val in intbl.meta.items():\n",
    "    if key in ['MD', 'VD', 'MW', 'VW', 'ANG', 'PHASE', 'REDSHIFT',]:\n",
    "        outbl[key][ii] = val"
   ]
  },
  {
   "attachments": {},
   "cell_type": "markdown",
   "metadata": {},
   "source": [
    "# Plot"
   ]
  },
  {
   "cell_type": "code",
   "execution_count": 284,
   "metadata": {},
   "outputs": [],
   "source": [
    "isotropic_factor = 54.\n",
    "z0 = 0\n",
    "\n",
    "point = (\n",
    "\tmd,\n",
    "\tvd,\n",
    "\tmw,\n",
    "\tvw,\n",
    "\tang,\n",
    "\tphase,\n",
    "\tlamarr,\n",
    ")\n",
    "\n",
    "iflux = interp(point)*isotropic_factor\n",
    "(zspappflam, zsplam) = apply_redshift_on_spectrum(iflux*flamunit, lamarr*lamunit, z, z0)\n",
    "mags = bands.get_ab_magnitudes(zspappflam, zsplam)\n",
    "\n",
    "spmag = np.array([mags[key][0] for key in mags.keys()])\n",
    "spfnu = (spmag*u.ABmag).to(u.uJy).value"
   ]
  },
  {
   "cell_type": "code",
   "execution_count": 285,
   "metadata": {},
   "outputs": [],
   "source": [
    "fnuarr = convert_flam2fnu(zspappflam, zsplam).to(u.uJy)"
   ]
  },
  {
   "cell_type": "code",
   "execution_count": 286,
   "metadata": {},
   "outputs": [],
   "source": [
    "label = f\"\"\"n_det={ndet}, rchisq={chisqdof:.3}, bic={bic:.3f}\n",
    "md={md:.3f}, vd={vd:.3f}c, mw={mw:.3f}, vw={vw:.3f}c\n",
    "angle={ang:.1f}deg, phase={phase:.3f}d\"\"\""
   ]
  },
  {
   "cell_type": "code",
   "execution_count": 287,
   "metadata": {},
   "outputs": [
    {
     "data": {
      "image/png": "[encoded data removed]",
      "text/plain": [
       "<Figure size 800x600 with 2 Axes>"
      ]
     },
     "metadata": {},
     "output_type": "display_data"
    }
   ],
   "source": [
    "plt.close('all')\n",
    "plt.figure(figsize=(8, 6))\n",
    "plt.plot(lamarr, fnuarr, c='grey', lw=3, alpha=0.5, label=label)\n",
    "yl, yu = plt.ylim()\n",
    "# plt.scatter(bands.effective_wavelengths, xdata, c=intbl['snr'], marker='s', s=50, ec='k')\n",
    "plt.scatter(intbl['lam'], intbl['fnuobs'], c=intbl['snr'], marker='s', s=50, ec='k')\n",
    "plt.errorbar(intbl['lam'], intbl['fnuobs'], yerr=intbl['fnuerr'], c='k', ls='none', zorder=0)\n",
    "cbar = plt.colorbar()\n",
    "cbar.set_label(\"SNR\")\n",
    "# plt.plot(bands.effective_wavelengths, func(xdata, *popt), '.', c='tomato')\n",
    "plt.plot(intbl['lam'], intbl['fnu'], c='tomato', marker='.', ls='none', zorder=0)\n",
    "plt.title(f\"{fittype} {source.upper()}\")\n",
    "plt.xticks(fontsize=12)\n",
    "plt.yticks(fontsize=12)\n",
    "plt.xlim([3750, 9000])\n",
    "plt.ylim([yl, yu])\n",
    "plt.xlabel(r\"$\\rm \\lambda$ [$\\AA$]\")\n",
    "plt.ylabel(r\"$\\rm f_\\nu$ [uJy]\")\n",
    "plt.legend(loc='lower center')\n",
    "plt.tight_layout()"
   ]
  },
  {
   "cell_type": "code",
   "execution_count": null,
   "metadata": {},
   "outputs": [],
   "source": [
    "outbl.write(outfits, overwrite=True)"
   ]
  }
 ],
 "metadata": {
  "kernelspec": {
   "display_name": "kn",
   "language": "python",
   "name": "python3"
  },
  "language_info": {
   "codemirror_mode": {
    "name": "ipython",
    "version": 3
   },
   "file_extension": ".py",
   "mimetype": "text/x-python",
   "name": "python",
   "nbconvert_exporter": "python",
   "pygments_lexer": "ipython3",
   "version": "3.10.8"
  },
  "orig_nbformat": 4
 },
 "nbformat": 4,
 "nbformat_minor": 2
}
