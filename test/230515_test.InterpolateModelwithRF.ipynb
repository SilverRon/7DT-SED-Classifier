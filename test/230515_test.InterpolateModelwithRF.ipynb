{
 "cells": [
  {
   "attachments": {},
   "cell_type": "markdown",
   "metadata": {},
   "source": [
    "# Library"
   ]
  },
  {
   "cell_type": "code",
   "execution_count": 1,
   "metadata": {},
   "outputs": [],
   "source": [
    "from sklearn.ensemble import RandomForestRegressor\n",
    "from sklearn.model_selection import train_test_split\n",
    "import numpy as np"
   ]
  },
  {
   "cell_type": "code",
   "execution_count": 2,
   "metadata": {},
   "outputs": [],
   "source": [
    "import glob\n",
    "from astropy.table import Table"
   ]
  },
  {
   "attachments": {},
   "cell_type": "markdown",
   "metadata": {},
   "source": [
    "# Function"
   ]
  },
  {
   "cell_type": "code",
   "execution_count": 3,
   "metadata": {},
   "outputs": [],
   "source": [
    "def tablize_sedinfo(path_sedinfo, models):\n",
    "\tinfotbl = Table()\n",
    "\tinfotbl['model'] = models\n",
    "\t\n",
    "\twith open(path_sedinfo, 'r') as f:\n",
    "\t\tfor line in f:\n",
    "\t\t\t#\tFind parameter row\n",
    "\t\t\tif line.startswith('PARNAMES: '):\n",
    "\t\t\t\t# print(line)\n",
    "\t\t\t\theaders = line.split()[1:]\n",
    "\t\t\t\tbreak\n",
    "\t\t#\tGenerate empty columns\n",
    "\t\tfor header in headers:\n",
    "\t\t\tinfotbl[header] = 0.0\n",
    "\n",
    "\t\tfor ll, line in enumerate(f):\n",
    "\t\t\tif ll < len(infotbl):\n",
    "\t\t\t\t#\tValues\n",
    "\t\t\t\tif line.startswith('SED:'):\n",
    "\t\t\t\t\tvals = line.split()[2:]\n",
    "\t\t\t\t\tfor hh, header in enumerate(headers):\n",
    "\t\t\t\t\t\tinfotbl[header][ll] = float(vals[hh])\n",
    "\n",
    "\treturn infotbl\n"
   ]
  },
  {
   "attachments": {},
   "cell_type": "markdown",
   "metadata": {},
   "source": [
    "# Setting"
   ]
  },
  {
   "attachments": {},
   "cell_type": "markdown",
   "metadata": {},
   "source": [
    "- Model"
   ]
  },
  {
   "cell_type": "code",
   "execution_count": 15,
   "metadata": {},
   "outputs": [],
   "source": [
    "typ = 'SNIax'\n",
    "# typ = 'TDE'"
   ]
  },
  {
   "cell_type": "code",
   "execution_count": 16,
   "metadata": {},
   "outputs": [
    {
     "name": "stdout",
     "output_type": "stream",
     "text": [
      "1001 models found\n"
     ]
    }
   ],
   "source": [
    "models = sorted(glob.glob(f'../model/PLAsTiCC/{typ}/SIMSED.{typ}/*.fits'))\n",
    "print(f\"{len(models)} models found\") "
   ]
  },
  {
   "attachments": {},
   "cell_type": "markdown",
   "metadata": {},
   "source": [
    "- Information Table"
   ]
  },
  {
   "cell_type": "code",
   "execution_count": 17,
   "metadata": {},
   "outputs": [],
   "source": [
    "path_sedinfo = f'../model/PLAsTiCC/{typ}/SIMSED.{typ}/SED.INFO'\n",
    "infotbl = tablize_sedinfo(path_sedinfo, models)"
   ]
  },
  {
   "attachments": {},
   "cell_type": "markdown",
   "metadata": {},
   "source": [
    "- Test a single model"
   ]
  },
  {
   "cell_type": "code",
   "execution_count": 18,
   "metadata": {},
   "outputs": [
    {
     "name": "stdout",
     "output_type": "stream",
     "text": [
      "Table length: 112800 --> 22400\n"
     ]
    }
   ],
   "source": [
    "ii = 10\n",
    "model = models[ii]\n",
    "_intbl = Table.read(model)\n",
    "\n",
    "indx = np.where(\n",
    "    (_intbl['col1'] <= 30) &\n",
    "    (_intbl['col2'] >= 2000) &\n",
    "    (_intbl['col2'] <= 10000)\n",
    ")\n",
    "\n",
    "intbl = _intbl[indx]\n",
    "phasearr = np.unique(intbl['col1'])\n",
    "lamarr = np.unique(intbl['col2'])\n",
    "number_of_unique_phase, number_of_unique_wavelength = len(phasearr), len(lamarr)\n",
    "flux2darr = intbl['col3'].reshape(number_of_unique_phase, number_of_unique_wavelength)\n",
    "\n",
    "print(f\"Table length: {len(_intbl)} --> {len(intbl)}\")"
   ]
  },
  {
   "attachments": {},
   "cell_type": "markdown",
   "metadata": {},
   "source": [
    "# Interpolation with RF"
   ]
  },
  {
   "cell_type": "code",
   "execution_count": 39,
   "metadata": {},
   "outputs": [
    {
     "data": {
      "text/plain": [
       "['M_V', 't_rise', 'dm15B', 'dm15R']"
      ]
     },
     "execution_count": 39,
     "metadata": {},
     "output_type": "execute_result"
    }
   ],
   "source": [
    "param_keys = infotbl.keys()[2:]\n",
    "param_keys"
   ]
  },
  {
   "cell_type": "code",
   "execution_count": 20,
   "metadata": {},
   "outputs": [],
   "source": [
    "X = []\n",
    "y = []\n",
    "\n",
    "# for mm, model in enumerate(infotbl['model'][:10]):\n",
    "# for mm, model in enumerate(infotbl['model'][:]):\n",
    "# for mm, model in enumerate(infotbl['model'][:100]):\n",
    "for mm, model in enumerate(infotbl['model'][:]):\n",
    "    _mdtbl = Table.read(model)\n",
    "\n",
    "    indx = np.where(\n",
    "        (_mdtbl['col1'] <= 30) &\n",
    "        (_mdtbl['col2'] >= 2000) &\n",
    "        (_mdtbl['col2'] <= 10000)\n",
    "    )\n",
    "    mdtbl = _mdtbl[indx]\n",
    "\n",
    "    # param1 = infotbl['M_V'][mm]\n",
    "    # param2 = infotbl['t_rise'][mm]\n",
    "    # param3 = infotbl['dm15B'][mm]\n",
    "    # param4 = infotbl['dm15R'][mm]\n",
    "    # param5 = infotbl['phase'][mm]\n",
    "\n",
    "    param_values = []\n",
    "    for key in param_keys:\n",
    "        param_values.append(infotbl[key][mm])\n",
    "\n",
    "    # 해당 모델의 스펙트럼 데이터 추출\n",
    "    model_spectrum = mdtbl['col3'].reshape(number_of_unique_phase, number_of_unique_wavelength)\n",
    "\n",
    "    # 데이터 포인트 생성 및 추가\n",
    "    for pp, param5 in enumerate(phasearr):\n",
    "        _param_values = param_values.copy()\n",
    "        _param_values.append(param5)\n",
    "        X.append(_param_values)\n",
    "        y.append(model_spectrum[pp])"
   ]
  },
  {
   "cell_type": "code",
   "execution_count": 21,
   "metadata": {},
   "outputs": [],
   "source": [
    "# 데이터 변환\n",
    "X = np.array(X)\n",
    "y = np.array(y)\n",
    "\n",
    "# 데이터 분할\n",
    "X_train, X_test, y_train, y_test = train_test_split(X, y, test_size=0.2, random_state=42)"
   ]
  },
  {
   "cell_type": "code",
   "execution_count": 22,
   "metadata": {},
   "outputs": [
    {
     "data": {
      "text/html": [
       "<style>#sk-container-id-1 {color: black;background-color: white;}#sk-container-id-1 pre{padding: 0;}#sk-container-id-1 div.sk-toggleable {background-color: white;}#sk-container-id-1 label.sk-toggleable__label {cursor: pointer;display: block;width: 100%;margin-bottom: 0;padding: 0.3em;box-sizing: border-box;text-align: center;}#sk-container-id-1 label.sk-toggleable__label-arrow:before {content: \"▸\";float: left;margin-right: 0.25em;color: #696969;}#sk-container-id-1 label.sk-toggleable__label-arrow:hover:before {color: black;}#sk-container-id-1 div.sk-estimator:hover label.sk-toggleable__label-arrow:before {color: black;}#sk-container-id-1 div.sk-toggleable__content {max-height: 0;max-width: 0;overflow: hidden;text-align: left;background-color: #f0f8ff;}#sk-container-id-1 div.sk-toggleable__content pre {margin: 0.2em;color: black;border-radius: 0.25em;background-color: #f0f8ff;}#sk-container-id-1 input.sk-toggleable__control:checked~div.sk-toggleable__content {max-height: 200px;max-width: 100%;overflow: auto;}#sk-container-id-1 input.sk-toggleable__control:checked~label.sk-toggleable__label-arrow:before {content: \"▾\";}#sk-container-id-1 div.sk-estimator input.sk-toggleable__control:checked~label.sk-toggleable__label {background-color: #d4ebff;}#sk-container-id-1 div.sk-label input.sk-toggleable__control:checked~label.sk-toggleable__label {background-color: #d4ebff;}#sk-container-id-1 input.sk-hidden--visually {border: 0;clip: rect(1px 1px 1px 1px);clip: rect(1px, 1px, 1px, 1px);height: 1px;margin: -1px;overflow: hidden;padding: 0;position: absolute;width: 1px;}#sk-container-id-1 div.sk-estimator {font-family: monospace;background-color: #f0f8ff;border: 1px dotted black;border-radius: 0.25em;box-sizing: border-box;margin-bottom: 0.5em;}#sk-container-id-1 div.sk-estimator:hover {background-color: #d4ebff;}#sk-container-id-1 div.sk-parallel-item::after {content: \"\";width: 100%;border-bottom: 1px solid gray;flex-grow: 1;}#sk-container-id-1 div.sk-label:hover label.sk-toggleable__label {background-color: #d4ebff;}#sk-container-id-1 div.sk-serial::before {content: \"\";position: absolute;border-left: 1px solid gray;box-sizing: border-box;top: 0;bottom: 0;left: 50%;z-index: 0;}#sk-container-id-1 div.sk-serial {display: flex;flex-direction: column;align-items: center;background-color: white;padding-right: 0.2em;padding-left: 0.2em;position: relative;}#sk-container-id-1 div.sk-item {position: relative;z-index: 1;}#sk-container-id-1 div.sk-parallel {display: flex;align-items: stretch;justify-content: center;background-color: white;position: relative;}#sk-container-id-1 div.sk-item::before, #sk-container-id-1 div.sk-parallel-item::before {content: \"\";position: absolute;border-left: 1px solid gray;box-sizing: border-box;top: 0;bottom: 0;left: 50%;z-index: -1;}#sk-container-id-1 div.sk-parallel-item {display: flex;flex-direction: column;z-index: 1;position: relative;background-color: white;}#sk-container-id-1 div.sk-parallel-item:first-child::after {align-self: flex-end;width: 50%;}#sk-container-id-1 div.sk-parallel-item:last-child::after {align-self: flex-start;width: 50%;}#sk-container-id-1 div.sk-parallel-item:only-child::after {width: 0;}#sk-container-id-1 div.sk-dashed-wrapped {border: 1px dashed gray;margin: 0 0.4em 0.5em 0.4em;box-sizing: border-box;padding-bottom: 0.4em;background-color: white;}#sk-container-id-1 div.sk-label label {font-family: monospace;font-weight: bold;display: inline-block;line-height: 1.2em;}#sk-container-id-1 div.sk-label-container {text-align: center;}#sk-container-id-1 div.sk-container {/* jupyter's `normalize.less` sets `[hidden] { display: none; }` but bootstrap.min.css set `[hidden] { display: none !important; }` so we also need the `!important` here to be able to override the default hidden behavior on the sphinx rendered scikit-learn.org. See: https://github.com/scikit-learn/scikit-learn/issues/21755 */display: inline-block !important;position: relative;}#sk-container-id-1 div.sk-text-repr-fallback {display: none;}</style><div id=\"sk-container-id-1\" class=\"sk-top-container\"><div class=\"sk-text-repr-fallback\"><pre>RandomForestRegressor()</pre><b>In a Jupyter environment, please rerun this cell to show the HTML representation or trust the notebook. <br />On GitHub, the HTML representation is unable to render, please try loading this page with nbviewer.org.</b></div><div class=\"sk-container\" hidden><div class=\"sk-item\"><div class=\"sk-estimator sk-toggleable\"><input class=\"sk-toggleable__control sk-hidden--visually\" id=\"sk-estimator-id-1\" type=\"checkbox\" checked><label for=\"sk-estimator-id-1\" class=\"sk-toggleable__label sk-toggleable__label-arrow\">RandomForestRegressor</label><div class=\"sk-toggleable__content\"><pre>RandomForestRegressor()</pre></div></div></div></div></div>"
      ],
      "text/plain": [
       "RandomForestRegressor()"
      ]
     },
     "execution_count": 22,
     "metadata": {},
     "output_type": "execute_result"
    }
   ],
   "source": [
    "# Random Forest 모델 생성 및 훈련\n",
    "rf = RandomForestRegressor()\n",
    "rf.fit(X_train, y_train)\n"
   ]
  },
  {
   "cell_type": "code",
   "execution_count": 23,
   "metadata": {},
   "outputs": [],
   "source": [
    "# 테스트 데이터에 대한 예측 수행\n",
    "y_pred = rf.predict(X_test)"
   ]
  },
  {
   "attachments": {},
   "cell_type": "markdown",
   "metadata": {},
   "source": [
    "- 결정 계수 (Coefficient of Determination, R-squared): 예측값이 종속 변수의 변동성을 얼마나 잘 설명하는지를 나타내는 지표로, 0과 1 사이의 값을 가집니다. 1에 가까울수록 모델의 예측이 실제 데이터와 잘 일치합니다.\n"
   ]
  },
  {
   "cell_type": "code",
   "execution_count": 24,
   "metadata": {},
   "outputs": [
    {
     "name": "stdout",
     "output_type": "stream",
     "text": [
      "평균 제곱 오차 (MSE): 8.819946447881462e-07\n",
      "평균 절대 오차 (MAE): 0.00022498005664518795\n",
      "결정 계수 (R-squared): 0.997123310246319\n"
     ]
    }
   ],
   "source": [
    "from sklearn.metrics import mean_squared_error, mean_absolute_error, r2_score\n",
    "\n",
    "# 평균 제곱 오차 (MSE) 계산\n",
    "mse = mean_squared_error(y_test, y_pred)\n",
    "print(\"평균 제곱 오차 (MSE):\", mse)\n",
    "\n",
    "# 평균 절대 오차 (MAE) 계산\n",
    "mae = mean_absolute_error(y_test, y_pred)\n",
    "print(\"평균 절대 오차 (MAE):\", mae)\n",
    "\n",
    "# 결정 계수 (R-squared) 계산\n",
    "r2 = r2_score(y_test, y_pred)\n",
    "print(\"결정 계수 (R-squared):\", r2)"
   ]
  },
  {
   "attachments": {},
   "cell_type": "markdown",
   "metadata": {},
   "source": [
    "# Test interpolation"
   ]
  },
  {
   "cell_type": "code",
   "execution_count": 25,
   "metadata": {},
   "outputs": [],
   "source": [
    "ii = 10\n",
    "new_param1 = infotbl['M_V'][ii]\n",
    "new_param2 = infotbl['t_rise'][ii]\n",
    "new_param3 = infotbl['dm15B'][ii]\n",
    "new_param4 = infotbl['dm15R'][ii]\n",
    "new_param5 = phasearr[25]"
   ]
  },
  {
   "cell_type": "code",
   "execution_count": 26,
   "metadata": {},
   "outputs": [],
   "source": [
    "# 임의의 파라미터와 시간 설정\n",
    "# new_param1 = 16.0\n",
    "# new_param2 = 13.0\n",
    "# new_param3 = 1.9\n",
    "# new_param4 = 0.7\n",
    "# new_param5 = 100.0\n",
    "\n",
    "# 새로운 데이터 포인트 생성\n",
    "new_data = np.array(\n",
    "\t[[new_param1, new_param2, new_param3, new_param4, new_param5,]]\n",
    "\t)\n",
    "\n",
    "# 보강된 스펙트럼 예측\n",
    "interpolated_spectrum = rf.predict(new_data)\n",
    "\n",
    "# 결과 출력\n",
    "# print(\"보강된 스펙트럼 플럭스:\", interpolated_spectrum)"
   ]
  },
  {
   "cell_type": "code",
   "execution_count": 27,
   "metadata": {},
   "outputs": [
    {
     "data": {
      "text/plain": [
       "<matplotlib.legend.Legend at 0x16802e990>"
      ]
     },
     "execution_count": 27,
     "metadata": {},
     "output_type": "execute_result"
    },
    {
     "data": {
      "image/png": "[encoded data removed]",
      "text/plain": [
       "<Figure size 640x480 with 1 Axes>"
      ]
     },
     "metadata": {},
     "output_type": "display_data"
    }
   ],
   "source": [
    "import matplotlib.pyplot as plt\n",
    "plt.plot(lamarr, interpolated_spectrum[0], label='RF')\n",
    "plt.plot(lamarr, flux2darr[25], label='Input')\n",
    "# plt.plot(lamarr, 1e2*(interpolated_spectrum[0]-flux2darr[25])/interpolated_spectrum[0])\n",
    "# plt.axhline(y=0.0, ls='--', color='grey', lw=3, alpha=0.5)\n",
    "# plt.ylim([-5, +5])\n",
    "plt.xlim([3750, 9000])\n",
    "plt.xlabel('Wavelength [AA]')\n",
    "plt.ylabel('Flux')\n",
    "plt.legend(fontsize=20)"
   ]
  },
  {
   "cell_type": "code",
   "execution_count": 28,
   "metadata": {},
   "outputs": [
    {
     "name": "stderr",
     "output_type": "stream",
     "text": [
      "No artists with labels found to put in legend.  Note that artists whose label start with an underscore are ignored when legend() is called with no argument.\n"
     ]
    },
    {
     "data": {
      "text/plain": [
       "<matplotlib.legend.Legend at 0x13f94fe10>"
      ]
     },
     "execution_count": 28,
     "metadata": {},
     "output_type": "execute_result"
    },
    {
     "data": {
      "image/png": "[encoded data removed]",
      "text/plain": [
       "<Figure size 640x480 with 1 Axes>"
      ]
     },
     "metadata": {},
     "output_type": "display_data"
    }
   ],
   "source": [
    "plt.plot(lamarr, 1e2*(interpolated_spectrum[0]-flux2darr[25])/interpolated_spectrum[0])\n",
    "plt.axhline(y=0.0, ls='--', color='grey', lw=3, alpha=0.5)\n",
    "plt.ylim([-5, +5])\n",
    "plt.xlim([3750, 9000])\n",
    "plt.xlabel('Wavelength [AA]')\n",
    "plt.ylabel('RF-Input [%]')\n",
    "plt.legend(fontsize=20)"
   ]
  },
  {
   "cell_type": "code",
   "execution_count": 31,
   "metadata": {},
   "outputs": [
    {
     "data": {
      "text/plain": [
       "'../model/PLAsTiCC/SNIax/SIMSED.SNIax'"
      ]
     },
     "execution_count": 31,
     "metadata": {},
     "output_type": "execute_result"
    }
   ],
   "source": [
    "# import os\n",
    "# os.path.dirname(path_sedinfo)"
   ]
  },
  {
   "cell_type": "code",
   "execution_count": 32,
   "metadata": {},
   "outputs": [
    {
     "name": "stdout",
     "output_type": "stream",
     "text": [
      "Dumping interpolator to ../model/PLAsTiCC/SNIax/rf_model.pkl...\n"
     ]
    }
   ],
   "source": [
    "# import pickle\n",
    "\n",
    "# path_pickle = f'../model/PLAsTiCC/{typ}/rf_model.pkl'\n",
    "\n",
    "# if path_pickle is not None:\n",
    "# \tprint(f\"Dumping interpolator to {path_pickle}...\")\n",
    "# \twith open(path_pickle, 'wb') as f:\n",
    "# \t\tpickle.dump(rf, f)"
   ]
  },
  {
   "attachments": {},
   "cell_type": "markdown",
   "metadata": {},
   "source": [
    "# Function"
   ]
  },
  {
   "cell_type": "code",
   "execution_count": 43,
   "metadata": {},
   "outputs": [],
   "source": [
    "def prepare_rf_train_data(infotbl, param_keys, phasearr, number_of_unique_phase, number_of_unique_wavelength, phase_upper=30., lam_lower=2000., lam_upper=10000.):\n",
    "\tX = []\n",
    "\ty = []\n",
    "\n",
    "\tfor mm, model in enumerate(infotbl['model'][:]):\n",
    "\t\t_mdtbl = Table.read(model)\n",
    "\n",
    "\t\tindx = np.where(\n",
    "\t\t\t# (_mdtbl['col1'] <= 30) &\n",
    "\t\t\t# (_mdtbl['col2'] >= 2000) &\n",
    "\t\t\t# (_mdtbl['col2'] <= 10000)\n",
    "\t\t\t(_mdtbl['col1'] <= phase_upper) &\n",
    "\t\t\t(_mdtbl['col2'] >= lam_lower) &\n",
    "\t\t\t(_mdtbl['col2'] <= lam_upper)\n",
    "\t\t)\n",
    "\t\tmdtbl = _mdtbl[indx]\n",
    "\n",
    "\t\t# param1 = infotbl['M_V'][mm]\n",
    "\t\t# param2 = infotbl['t_rise'][mm]\n",
    "\t\t# param3 = infotbl['dm15B'][mm]\n",
    "\t\t# param4 = infotbl['dm15R'][mm]\n",
    "\t\t# param5 = infotbl['phase'][mm]\n",
    "\n",
    "\t\tparam_values = []\n",
    "\t\tfor key in param_keys:\n",
    "\t\t\tparam_values.append(infotbl[key][mm])\n",
    "\n",
    "\t\t# 해당 모델의 스펙트럼 데이터 추출\n",
    "\t\tmodel_spectrum = mdtbl['col3'].reshape(number_of_unique_phase, number_of_unique_wavelength)\n",
    "\n",
    "\t\t# 데이터 포인트 생성 및 추가\n",
    "\t\tfor pp, param5 in enumerate(phasearr):\n",
    "\t\t\t_param_values = param_values.copy()\n",
    "\t\t\t_param_values.append(param5)\n",
    "\t\t\tX.append(_param_values)\n",
    "\t\t\ty.append(model_spectrum[pp])\n",
    "\treturn X, y"
   ]
  },
  {
   "cell_type": "code",
   "execution_count": 44,
   "metadata": {},
   "outputs": [],
   "source": [
    "X, y = prepare_train_data(infotbl, param_keys, phasearr, number_of_unique_phase, number_of_unique_wavelength)"
   ]
  }
 ],
 "metadata": {
  "kernelspec": {
   "display_name": "sdt",
   "language": "python",
   "name": "python3"
  },
  "language_info": {
   "codemirror_mode": {
    "name": "ipython",
    "version": 3
   },
   "file_extension": ".py",
   "mimetype": "text/x-python",
   "name": "python",
   "nbconvert_exporter": "python",
   "pygments_lexer": "ipython3",
   "version": "3.11.0"
  },
  "orig_nbformat": 4
 },
 "nbformat": 4,
 "nbformat_minor": 2
}
