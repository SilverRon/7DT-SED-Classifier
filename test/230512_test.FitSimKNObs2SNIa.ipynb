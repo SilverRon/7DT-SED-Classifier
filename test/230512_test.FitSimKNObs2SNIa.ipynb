{
 "cells": [
  {
   "attachments": {},
   "cell_type": "markdown",
   "metadata": {},
   "source": [
    "# Library"
   ]
  },
  {
   "cell_type": "code",
   "execution_count": 1,
   "metadata": {},
   "outputs": [
    {
     "name": "stdout",
     "output_type": "stream",
     "text": [
      "Use `med25nm`, `med50nm`, `broad` as `group_name`\n"
     ]
    }
   ],
   "source": [
    "from astropy.table import Table\n",
    "import numpy as np\n",
    "import matplotlib.pyplot as plt\n",
    "from astropy.time import Time\n",
    "\n",
    "# from astropy.cosmology import WMAP9 as cosmo\n",
    "# from astropy.constants import c\n",
    "# from astropy import units as u\n",
    "# from astropy.cosmology import z_at_value\n",
    "import inspect\n",
    "\n",
    "import sys\n",
    "sys.path.append('..')\n",
    "from util.helper import *\n",
    "from util.sdtpy import *\n",
    "register_custom_filters_on_speclite('../util')"
   ]
  },
  {
   "attachments": {},
   "cell_type": "markdown",
   "metadata": {},
   "source": [
    "# Setting"
   ]
  },
  {
   "cell_type": "code",
   "execution_count": 2,
   "metadata": {},
   "outputs": [],
   "source": [
    "snrcut = 3\n",
    "source = 'salt3'\n",
    "fittype = 'SNIa'"
   ]
  },
  {
   "attachments": {},
   "cell_type": "markdown",
   "metadata": {},
   "source": [
    "## Path"
   ]
  },
  {
   "cell_type": "code",
   "execution_count": 3,
   "metadata": {},
   "outputs": [],
   "source": [
    "intype = 'kn'\n",
    "indist = 40\n",
    "inexptime = 180\n",
    "group = 'med25nm'"
   ]
  },
  {
   "cell_type": "code",
   "execution_count": 4,
   "metadata": {},
   "outputs": [
    {
     "name": "stdout",
     "output_type": "stream",
     "text": [
      "Input  path:../input/kn/040Mpc/180s/med25nm\n",
      "Output path:../fit_result/kn2SNIa/040Mpc/180s/med25nm\n"
     ]
    }
   ],
   "source": [
    "path_input = f'../input/{intype}/{indist:0>3}Mpc/{inexptime:0>3}s/{group}'\n",
    "path_output = f'../fit_result/{intype}2{fittype}/{indist:0>3}Mpc/{inexptime:0>3}s/{group}'\n",
    "if not os.path.exists(path_output):\n",
    "    os.makedirs(path_output)\n",
    "\n",
    "print(f\"Input  path:{path_input}\")\n",
    "print(f\"Output path:{path_output}\")\n",
    "\n",
    "intablelist = sorted(glob.glob(f\"{path_input}/obs.*.fits\"))"
   ]
  },
  {
   "attachments": {},
   "cell_type": "markdown",
   "metadata": {},
   "source": [
    "## Output Table"
   ]
  },
  {
   "cell_type": "code",
   "execution_count": 5,
   "metadata": {},
   "outputs": [],
   "source": [
    "outbl = Table()\n",
    "#\tInput data\n",
    "outbl['input_table'] = [os.path.basename(intable) for intable in intablelist]\n",
    "#\tDetection / Fit\n",
    "outbl['ndet'] = 0\n",
    "outbl['det_filters'] = \" \"*200\n",
    "outbl['det'] = False\n",
    "outbl['fit'] = False\n",
    "#\tFitted Parameters\n",
    "outbl['t'] = 0.\n",
    "outbl['x0'] = 0.\n",
    "outbl['x1'] = 0.\n",
    "outbl['c'] = 0.\n",
    "#\tError\n",
    "outbl['terr'] = 0.\n",
    "outbl['x0err'] = 0.\n",
    "outbl['x1err'] = 0.\n",
    "outbl['cerr'] = 0.\n",
    "#\tFit Results\n",
    "outbl['free_params'] = 0\n",
    "outbl['dof'] = 0\n",
    "outbl['chisq'] = 0.\n",
    "outbl['chisqdof'] = 0.\n",
    "outbl['bic'] = 0.\n",
    "#\tMeta\n",
    "outbl.meta['fittype'] = fittype\n",
    "outbl.meta['source'] = source\n",
    "outbl.meta['intype'] = intype\n",
    "outbl.meta['indist[Mpc]'] = indist\n",
    "outbl.meta['inexptime[s]'] = inexptime\n",
    "outbl.meta['group'] = group\n",
    "outbl.meta['date'] = Time.now().isot"
   ]
  },
  {
   "cell_type": "code",
   "execution_count": 6,
   "metadata": {},
   "outputs": [],
   "source": [
    "#\tTemp Table\n",
    "_mdtbl = Table.read(intablelist[0])\n",
    "for key, val in _mdtbl.meta.items():\n",
    "    if key in ['MD', 'VD', 'MW', 'VW', 'ANG', 'PHASE', 'REDSHIFT',]:\n",
    "        if type(val) is str:\n",
    "            outbl[key] = ' '*10\n",
    "        elif type(val) is float:\n",
    "            outbl[key] = 0.0\n",
    "        elif type(val) is int:\n",
    "            outbl[key] = 0\n",
    "        # print(key, val)"
   ]
  },
  {
   "cell_type": "code",
   "execution_count": 7,
   "metadata": {},
   "outputs": [],
   "source": [
    "ii = 10\n",
    "intable = intablelist[ii]\n",
    "intbl = Table.read(intable, format='fits')"
   ]
  },
  {
   "cell_type": "code",
   "execution_count": 8,
   "metadata": {},
   "outputs": [],
   "source": [
    "indx_det = np.where(intbl['snr']>snrcut)\n",
    "filterlist_det = list(intbl['filter'][indx_det])\n",
    "filterlist_str = \",\".join(filterlist_det)"
   ]
  },
  {
   "cell_type": "code",
   "execution_count": 9,
   "metadata": {},
   "outputs": [],
   "source": [
    "filterset = [f\"{group}-{filte}\" for filte, _, group in filterlist_med25nm if filte in filterlist_det]\n",
    "bands = speclite.filters.load_filters(*filterset)"
   ]
  },
  {
   "cell_type": "code",
   "execution_count": 10,
   "metadata": {},
   "outputs": [
    {
     "name": "stdout",
     "output_type": "stream",
     "text": [
      "number of detections: 18\n",
      "detection: True\n"
     ]
    }
   ],
   "source": [
    "ndet = len(filterset)\n",
    "print(f\"number of detections: {ndet}\")\n",
    "detection = np.any(intbl['snr'] > 5)\n",
    "print(f\"detection: {detection}\")"
   ]
  },
  {
   "attachments": {},
   "cell_type": "markdown",
   "metadata": {},
   "source": [
    "- z, t, x0, x1, c"
   ]
  },
  {
   "attachments": {},
   "cell_type": "markdown",
   "metadata": {},
   "source": [
    "# Main"
   ]
  },
  {
   "attachments": {},
   "cell_type": "markdown",
   "metadata": {},
   "source": [
    "## Sample model"
   ]
  },
  {
   "cell_type": "code",
   "execution_count": 11,
   "metadata": {},
   "outputs": [],
   "source": [
    "import sncosmo"
   ]
  },
  {
   "attachments": {},
   "cell_type": "markdown",
   "metadata": {},
   "source": [
    "- ['z', 't0', 'x0', 'x1', 'c']"
   ]
  },
  {
   "cell_type": "code",
   "execution_count": 12,
   "metadata": {},
   "outputs": [],
   "source": [
    "model = sncosmo.Model(source)\n",
    "model.param_names\n",
    "#\tphase\n",
    "phasemin, phasemax = model.mintime(), model.maxtime()\n",
    "phasearr = np.arange(phasemin, phasemax, 1)\n",
    "#\twavelength\n",
    "lammin, lammax = model.minwave(), model.maxwave()\n",
    "lamarr = np.arange(lammin, lammax, 1)"
   ]
  },
  {
   "cell_type": "code",
   "execution_count": 13,
   "metadata": {},
   "outputs": [],
   "source": [
    "def func(x, z, t, x0, x1, c):\n",
    "\tmodel.set(z=z, x0=x0, x1=x1, c=c)\n",
    "\t# model.set_source_peakabsmag(-19.0, 'bessellb', 'ab')\n",
    "\t#\tSpectrum : wavelength & flux\n",
    "\tlam = np.arange(model.minwave(), model.maxwave(), 1)\n",
    "\tflam = model.flux(t, lam)\n",
    "\n",
    "\t#\tPadding the spectrum\n",
    "\tmags = bands.get_ab_magnitudes(*bands.pad_spectrum(flam, lam))\n",
    "\t\n",
    "\t#\tMagnitude from model spectrum\n",
    "\tspfnu = (np.array(list(mags[0]))*u.ABmag).to(u.uJy).value\n",
    "\n",
    "\treturn spfnu"
   ]
  },
  {
   "cell_type": "code",
   "execution_count": 14,
   "metadata": {},
   "outputs": [],
   "source": [
    "xdata = intbl['fnuobs'].data[indx_det]\n",
    "ydata = xdata\n",
    "sigma = intbl['fnuerr'].data[indx_det]\n",
    "\n",
    "p0 = (\n",
    "    0.01, 0, 0, 0, 0,\n",
    ")\n",
    "\n",
    "bounds = (\n",
    "    (0.0, -np.inf, -np.inf, -np.inf, -np.inf),\n",
    "    (1.0, np.inf, np.inf, np.inf, np.inf)\n",
    ")"
   ]
  },
  {
   "cell_type": "code",
   "execution_count": 15,
   "metadata": {},
   "outputs": [],
   "source": [
    "#\tDefault `fit`\n",
    "fit = False\n",
    "try:\n",
    "\tpopt, pcov = curve_fit(\n",
    "\t\tfunc,\n",
    "\t\txdata=xdata,\n",
    "\t\tydata=ydata,\n",
    "\t\tsigma=sigma,\n",
    "\t\tp0=p0,\n",
    "\t\tabsolute_sigma=True,\n",
    "\t\tcheck_finite=True,\n",
    "\t\tbounds=bounds,\n",
    "\t\tmethod='trf',\n",
    "\t\t# max_nfev=1e4,\n",
    "\t)\n",
    "\tfit = True\n",
    "except Exception as e:\n",
    "\t# print(e)\n",
    "\toutlog = f\"{path_output}/{os.path.basename(intable).replace('obs', 'fit').replace('fits', 'log')}\"\n",
    "\tf = open(outlog, 'w')\n",
    "\tf.write(e)\n",
    "\tf.close()\n",
    "\tfit = False"
   ]
  },
  {
   "cell_type": "code",
   "execution_count": 16,
   "metadata": {},
   "outputs": [
    {
     "name": "stdout",
     "output_type": "stream",
     "text": [
      "z =1.64e-31\n",
      "t =-5.51\n",
      "x0=0.000241\n",
      "x1=1.89\n",
      "c =0.255\n"
     ]
    }
   ],
   "source": [
    "# z, t, x0, x1, c\n",
    "z = popt[0]\n",
    "t = popt[1]\n",
    "x0 = popt[2]\n",
    "x1 = popt[3]\n",
    "c = popt[4]\n",
    "\n",
    "print(f\"z ={z:.3}\")\n",
    "print(f\"t ={t:.3}\")\n",
    "print(f\"x0={x0:.3}\")\n",
    "print(f\"x1={x1:.3}\")\n",
    "print(f\"c ={c:.3}\")"
   ]
  },
  {
   "cell_type": "code",
   "execution_count": 17,
   "metadata": {},
   "outputs": [
    {
     "name": "stdout",
     "output_type": "stream",
     "text": [
      "Reduced Chisq: 2.51\n"
     ]
    }
   ],
   "source": [
    "#\tFitting result\n",
    "r = ydata.data - func(xdata, *popt)\n",
    "n_free_param = len(inspect.signature(func).parameters)-1\n",
    "# ndet = len(xdata)\n",
    "dof = ndet - n_free_param\n",
    "chisq_i = (r / sigma) ** 2\n",
    "chisq = np.sum(chisq_i)\n",
    "chisqdof = chisq/dof\n",
    "bic = chisq + n_free_param*np.log(ndet)\n",
    "perr = np.sqrt(np.diag(pcov))\n",
    "\n",
    "# print(chisq)\n",
    "print(f\"Reduced Chisq: {chisqdof:.3}\")"
   ]
  },
  {
   "attachments": {},
   "cell_type": "markdown",
   "metadata": {},
   "source": [
    "## Result"
   ]
  },
  {
   "cell_type": "code",
   "execution_count": 18,
   "metadata": {},
   "outputs": [],
   "source": [
    "outpng = f\"{path_output}/{os.path.basename(intable).replace('obs', 'fit').replace('fits', 'png')}\"\n",
    "outfits = f\"{path_output}/{os.path.basename(intable).replace('obs', 'fit')}\""
   ]
  },
  {
   "cell_type": "code",
   "execution_count": 19,
   "metadata": {},
   "outputs": [],
   "source": [
    "#\tDetection / Fit\n",
    "outbl['ndet'][ii] = ndet\n",
    "outbl['det_filters'][ii] = filterlist_str\n",
    "outbl['det'][ii] = detection\n",
    "outbl['fit'][ii] = fit\n",
    "#\tFitted Parameters\n",
    "outbl['t'][ii] = t\n",
    "outbl['x0'][ii] = x0\n",
    "outbl['x1'][ii] = x1\n",
    "outbl['c'][ii] = c\n",
    "#\tError\n",
    "outbl['terr'][ii] = perr[0]\n",
    "outbl['x0err'][ii] = perr[1]\n",
    "outbl['x1err'][ii] = perr[2]\n",
    "outbl['cerr'][ii] = perr[3]\n",
    "#\tFit Results\n",
    "outbl['free_params'][ii] = n_free_param\n",
    "outbl['dof'][ii] = dof\n",
    "outbl['chisq'][ii] = chisq\n",
    "outbl['chisqdof'][ii] = chisqdof\n",
    "outbl['bic'][ii] = bic"
   ]
  },
  {
   "cell_type": "code",
   "execution_count": 20,
   "metadata": {},
   "outputs": [],
   "source": [
    "#\tTemp Table\n",
    "for key, val in intbl.meta.items():\n",
    "    if key in ['MD', 'VD', 'MW', 'VW', 'ANG', 'PHASE', 'REDSHIFT',]:\n",
    "        outbl[key][ii] = val"
   ]
  },
  {
   "cell_type": "code",
   "execution_count": 21,
   "metadata": {},
   "outputs": [
    {
     "data": {
      "text/html": [
       "<i>Row index=10</i>\n",
       "<table id=\"table5068782032\">\n",
       "<thead><tr><th>input_table</th><th>ndet</th><th>det_filters</th><th>det</th><th>fit</th><th>t</th><th>x0</th><th>x1</th><th>c</th><th>terr</th><th>x0err</th><th>x1err</th><th>cerr</th><th>free_params</th><th>dof</th><th>chisq</th><th>chisqdof</th><th>bic</th><th>MD</th><th>VD</th><th>MW</th><th>VW</th><th>ANG</th><th>PHASE</th><th>REDSHIFT</th></tr></thead>\n",
       "<thead><tr><th>str15</th><th>int64</th><th>str200</th><th>bool</th><th>bool</th><th>float64</th><th>float64</th><th>float64</th><th>float64</th><th>float64</th><th>float64</th><th>float64</th><th>float64</th><th>int64</th><th>int64</th><th>float64</th><th>float64</th><th>float64</th><th>float64</th><th>float64</th><th>float64</th><th>float64</th><th>int64</th><th>float64</th><th>float64</th></tr></thead>\n",
       "<tr><td>obs.000010.fits</td><td>18</td><td>m4000,m4250,m4500,m4750,m5000,m5250,m5500,m5750,m6000,m6250,m6500,m6750,m7000,m7250,m7500,m7750,m8000,m8250</td><td>True</td><td>True</td><td>-5.506356834172548</td><td>0.00024123046116842568</td><td>1.8862072211762957</td><td>0.25500648862780506</td><td>0.005714777027444999</td><td>1.4201558188150203</td><td>2.0305261150509664e-05</td><td>0.7544484627238923</td><td>5</td><td>13</td><td>32.669944497946055</td><td>2.513072653688158</td><td>47.12180328742688</td><td>0.001</td><td>0.05</td><td>0.001</td><td>0.05</td><td>60</td><td>0.5</td><td>0.009183069776131852</td></tr>\n",
       "</table>"
      ],
      "text/plain": [
       "<Row index=10>\n",
       "  input_table    ndet                                                 det_filters                                                 det  fit          t                    x0                   x1                  c                  terr               x0err                x1err                 cerr        free_params  dof        chisq             chisqdof            bic           MD      VD      MW      VW    ANG   PHASE        REDSHIFT      \n",
       "     str15      int64                                                    str200                                                   bool bool      float64              float64              float64             float64             float64             float64              float64              float64          int64    int64      float64            float64           float64      float64 float64 float64 float64 int64 float64       float64       \n",
       "--------------- ----- ----------------------------------------------------------------------------------------------------------- ---- ---- ------------------ ---------------------- ------------------ ------------------- -------------------- ------------------ ---------------------- ------------------ ----------- ----- ------------------ ----------------- ----------------- ------- ------- ------- ------- ----- ------- --------------------\n",
       "obs.000010.fits    18 m4000,m4250,m4500,m4750,m5000,m5250,m5500,m5750,m6000,m6250,m6500,m6750,m7000,m7250,m7500,m7750,m8000,m8250 True True -5.506356834172548 0.00024123046116842568 1.8862072211762957 0.25500648862780506 0.005714777027444999 1.4201558188150203 2.0305261150509664e-05 0.7544484627238923           5    13 32.669944497946055 2.513072653688158 47.12180328742688   0.001    0.05   0.001    0.05    60     0.5 0.009183069776131852"
      ]
     },
     "execution_count": 21,
     "metadata": {},
     "output_type": "execute_result"
    }
   ],
   "source": [
    "outbl[ii]"
   ]
  },
  {
   "attachments": {},
   "cell_type": "markdown",
   "metadata": {},
   "source": [
    "## Figure"
   ]
  },
  {
   "cell_type": "code",
   "execution_count": 22,
   "metadata": {},
   "outputs": [
    {
     "data": {
      "image/png": "[encoded data removed]",
      "text/plain": [
       "<Figure size 640x480 with 2 Axes>"
      ]
     },
     "metadata": {},
     "output_type": "display_data"
    }
   ],
   "source": [
    "model.set(z=z, x0=x0, x1=x1, c=c)\n",
    "flamarr = model.flux(t, lamarr)\n",
    "fnuarr = convert_flam2fnu(flamarr*flamunit, lamarr*lamunit).to(u.uJy)\n",
    "\n",
    "label = f\"\"\"n_det={ndet}, rchisq={chisqdof:.3}, bic={bic:.3}\n",
    "z ={z:.3}, t ={t:.3}\n",
    "x0={x0:.3}, x1={x1:.3}, c ={c:.3}\"\"\"\n",
    "\n",
    "plt.plot(lamarr, fnuarr, c='grey', lw=3, alpha=0.5, label=label)\n",
    "yl, yu = plt.ylim()\n",
    "# plt.scatter(bands.effective_wavelengths, xdata, c=intbl['snr'], marker='s', s=50, ec='k')\n",
    "plt.scatter(intbl['lam'], intbl['fnuobs'], c=intbl['snr'], marker='s', s=50, ec='k')\n",
    "plt.errorbar(intbl['lam'], intbl['fnuobs'], yerr=intbl['fnuerr'], c='k', ls='none', zorder=0)\n",
    "cbar = plt.colorbar()\n",
    "cbar.set_label(\"SNR\")\n",
    "# plt.plot(bands.effective_wavelengths, func(xdata, *popt), '.', c='tomato')\n",
    "plt.plot(intbl['lam'], intbl['fnu'], c='tomato', marker='.', ls='none', zorder=0)\n",
    "plt.title(f\"{fittype} {source.upper()}\")\n",
    "plt.xlim([3750, 9000])\n",
    "# yl, yu = plt.ylim()\n",
    "# plt.ylim([0, yu])\n",
    "plt.ylim([yl, yu])\n",
    "plt.xlabel(r\"$\\rm \\lambda$ [$\\AA$]\")\n",
    "plt.ylabel(r\"$\\rm f_\\nu$ [uJy]\")\n",
    "plt.legend(loc='lower center')\n",
    "plt.savefig(outpng, dpi=100)"
   ]
  },
  {
   "cell_type": "code",
   "execution_count": null,
   "metadata": {},
   "outputs": [],
   "source": [
    "outbl.write(outfits, overwrite=True)"
   ]
  }
 ],
 "metadata": {
  "kernelspec": {
   "display_name": "kn",
   "language": "python",
   "name": "python3"
  },
  "language_info": {
   "codemirror_mode": {
    "name": "ipython",
    "version": 3
   },
   "file_extension": ".py",
   "mimetype": "text/x-python",
   "name": "python",
   "nbconvert_exporter": "python",
   "pygments_lexer": "ipython3",
   "version": "3.10.8"
  },
  "orig_nbformat": 4
 },
 "nbformat": 4,
 "nbformat_minor": 2
}
