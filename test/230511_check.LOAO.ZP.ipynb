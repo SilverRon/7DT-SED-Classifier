{
 "cells": [
  {
   "cell_type": "code",
   "execution_count": 1,
   "metadata": {},
   "outputs": [],
   "source": [
    "from astropy.io import ascii\n",
    "import numpy as np"
   ]
  },
  {
   "cell_type": "code",
   "execution_count": 2,
   "metadata": {},
   "outputs": [
    {
     "data": {
      "text/html": [
       "<div><i>Table length=44</i>\n",
       "<table id=\"table4539655184\" class=\"table-striped table-bordered table-condensed\">\n",
       "<thead><tr><th>image</th><th>zp</th><th>zperr</th></tr></thead>\n",
       "<thead><tr><th>str49</th><th>float64</th><th>float64</th></tr></thead>\n",
       "<tr><td>Calib-LOAO-NGC4993-20210102-131619-R-180.com.fits</td><td>27.32</td><td>0.031</td></tr>\n",
       "<tr><td>Calib-LOAO-NGC4993-20210103-115833-R-180.com.fits</td><td>27.278</td><td>0.046</td></tr>\n",
       "<tr><td>Calib-LOAO-NGC4993-20210104-114633-R-180.com.fits</td><td>27.276</td><td>0.023</td></tr>\n",
       "<tr><td>Calib-LOAO-NGC4993-20210217-114409-R-180.com.fits</td><td>27.029</td><td>0.053</td></tr>\n",
       "<tr><td>Calib-LOAO-NGC4993-20210225-105414-R-180.com.fits</td><td>25.637</td><td>0.028</td></tr>\n",
       "<tr><td>Calib-LOAO-NGC4993-20210226-092721-R-180.com.fits</td><td>27.287</td><td>0.031</td></tr>\n",
       "<tr><td>Calib-LOAO-NGC4993-20210227-085121-R-180.com.fits</td><td>27.275</td><td>0.03</td></tr>\n",
       "<tr><td>Calib-LOAO-NGC4993-20210423-065931-R-180.com.fits</td><td>27.061</td><td>0.021</td></tr>\n",
       "<tr><td>Calib-LOAO-NGC4993-20210618-033307-R-180.com.fits</td><td>26.905</td><td>0.031</td></tr>\n",
       "<tr><td>Calib-LOAO-NGC4993-20220128-124857-R-180.com.fits</td><td>27.156</td><td>0.042</td></tr>\n",
       "<tr><td>...</td><td>...</td><td>...</td></tr>\n",
       "<tr><td>Calib-LOAO-NGC4993-20230201-111521-R-180.com.fits</td><td>27.255</td><td>0.03</td></tr>\n",
       "<tr><td>Calib-LOAO-NGC4993-20230205-102750-R-180.com.fits</td><td>27.301</td><td>0.03</td></tr>\n",
       "<tr><td>Calib-LOAO-NGC4993-20230206-110809-R-180.com.fits</td><td>27.317</td><td>0.037</td></tr>\n",
       "<tr><td>Calib-LOAO-NGC4993-20230208-103209-R-180.com.fits</td><td>27.309</td><td>0.029</td></tr>\n",
       "<tr><td>Calib-LOAO-NGC4993-20230228-111648-R-180.com.fits</td><td>27.261</td><td>0.029</td></tr>\n",
       "<tr><td>Calib-LOAO-NGC4993-20230326-095931-R-180.com.fits</td><td>27.127</td><td>0.029</td></tr>\n",
       "<tr><td>Calib-LOAO-NGC4993-20230327-090126-R-180.com.fits</td><td>26.984</td><td>0.016</td></tr>\n",
       "<tr><td>Calib-LOAO-NGC4993-20230328-091940-R-180.com.fits</td><td>27.205</td><td>0.037</td></tr>\n",
       "<tr><td>Calib-LOAO-NGC4993-20230329-085414-R-180.com.fits</td><td>27.195</td><td>0.029</td></tr>\n",
       "<tr><td>Calib-LOAO-NGC4993-20230402-081940-R-180.com.fits</td><td>27.213</td><td>0.031</td></tr>\n",
       "</table></div>"
      ],
      "text/plain": [
       "<Table length=44>\n",
       "                      image                          zp    zperr \n",
       "                      str49                       float64 float64\n",
       "------------------------------------------------- ------- -------\n",
       "Calib-LOAO-NGC4993-20210102-131619-R-180.com.fits   27.32   0.031\n",
       "Calib-LOAO-NGC4993-20210103-115833-R-180.com.fits  27.278   0.046\n",
       "Calib-LOAO-NGC4993-20210104-114633-R-180.com.fits  27.276   0.023\n",
       "Calib-LOAO-NGC4993-20210217-114409-R-180.com.fits  27.029   0.053\n",
       "Calib-LOAO-NGC4993-20210225-105414-R-180.com.fits  25.637   0.028\n",
       "Calib-LOAO-NGC4993-20210226-092721-R-180.com.fits  27.287   0.031\n",
       "Calib-LOAO-NGC4993-20210227-085121-R-180.com.fits  27.275    0.03\n",
       "Calib-LOAO-NGC4993-20210423-065931-R-180.com.fits  27.061   0.021\n",
       "Calib-LOAO-NGC4993-20210618-033307-R-180.com.fits  26.905   0.031\n",
       "Calib-LOAO-NGC4993-20220128-124857-R-180.com.fits  27.156   0.042\n",
       "                                              ...     ...     ...\n",
       "Calib-LOAO-NGC4993-20230201-111521-R-180.com.fits  27.255    0.03\n",
       "Calib-LOAO-NGC4993-20230205-102750-R-180.com.fits  27.301    0.03\n",
       "Calib-LOAO-NGC4993-20230206-110809-R-180.com.fits  27.317   0.037\n",
       "Calib-LOAO-NGC4993-20230208-103209-R-180.com.fits  27.309   0.029\n",
       "Calib-LOAO-NGC4993-20230228-111648-R-180.com.fits  27.261   0.029\n",
       "Calib-LOAO-NGC4993-20230326-095931-R-180.com.fits  27.127   0.029\n",
       "Calib-LOAO-NGC4993-20230327-090126-R-180.com.fits  26.984   0.016\n",
       "Calib-LOAO-NGC4993-20230328-091940-R-180.com.fits  27.205   0.037\n",
       "Calib-LOAO-NGC4993-20230329-085414-R-180.com.fits  27.195   0.029\n",
       "Calib-LOAO-NGC4993-20230402-081940-R-180.com.fits  27.213   0.031"
      ]
     },
     "execution_count": 2,
     "metadata": {},
     "output_type": "execute_result"
    }
   ],
   "source": [
    "intbl = ascii.read('../data/loao.zp.dat')\n",
    "intbl"
   ]
  },
  {
   "cell_type": "code",
   "execution_count": 5,
   "metadata": {},
   "outputs": [],
   "source": [
    "zpratio = 1e2*(intbl['zperr'].data/intbl['zp'].data)"
   ]
  },
  {
   "cell_type": "code",
   "execution_count": 7,
   "metadata": {},
   "outputs": [
    {
     "data": {
      "text/plain": [
       "(0.1154343572937234,\n",
       " 0.02660138354130289,\n",
       " 0.059294396679513785,\n",
       " 0.19608568574494062)"
      ]
     },
     "execution_count": 7,
     "metadata": {},
     "output_type": "execute_result"
    }
   ],
   "source": [
    "zpratio.mean(), zpratio.std(), zpratio.min(), zpratio.max()"
   ]
  }
 ],
 "metadata": {
  "kernelspec": {
   "display_name": "kn",
   "language": "python",
   "name": "python3"
  },
  "language_info": {
   "codemirror_mode": {
    "name": "ipython",
    "version": 3
   },
   "file_extension": ".py",
   "mimetype": "text/x-python",
   "name": "python",
   "nbconvert_exporter": "python",
   "pygments_lexer": "ipython3",
   "version": "3.10.8"
  },
  "orig_nbformat": 4
 },
 "nbformat": 4,
 "nbformat_minor": 2
}
