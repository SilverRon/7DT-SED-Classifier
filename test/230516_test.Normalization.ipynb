{
 "cells": [
  {
   "cell_type": "code",
   "execution_count": 2,
   "metadata": {},
   "outputs": [],
   "source": [
    "# %%\n",
    "from sklearn.ensemble import RandomForestRegressor\n",
    "from sklearn.model_selection import train_test_split\n",
    "import numpy as np\n",
    "import glob\n",
    "from astropy.table import Table\n",
    "import sys\n",
    "sys.path.append('..')\n",
    "from util.helper import *\n",
    "from util.sdtpy import *\n",
    "import inspect\n",
    "import matplotlib.pyplot as plt\n",
    "from astropy.time import Time"
   ]
  },
  {
   "cell_type": "code",
   "execution_count": 3,
   "metadata": {},
   "outputs": [
    {
     "name": "stdout",
     "output_type": "stream",
     "text": [
      "1001 models found\n"
     ]
    }
   ],
   "source": [
    "# %%\n",
    "snrcut = 3\n",
    "source = 'MOSFiT'\n",
    "fittype = 'SNIax'\n",
    "verbose = True\n",
    "\n",
    "# %%\n",
    "models = sorted(glob.glob(f'../model/PLAsTiCC/{fittype}/SIMSED.{fittype}/*.fits'))\n",
    "print(f\"{len(models)} models found\") \n",
    "\n",
    "# %%\n",
    "path_sedinfo = f'../model/PLAsTiCC/{fittype}/SIMSED.{fittype}/SED.INFO'\n",
    "infotbl = tablize_sedinfo(path_sedinfo, models)"
   ]
  },
  {
   "cell_type": "code",
   "execution_count": 5,
   "metadata": {},
   "outputs": [],
   "source": [
    "key = 'M_V'\n",
    "valarr = infotbl[key].data"
   ]
  },
  {
   "cell_type": "code",
   "execution_count": 6,
   "metadata": {},
   "outputs": [],
   "source": [
    "def normalize_minmax(val, valarr):\n",
    "    normval = (val - valarr.min()) / (valarr.max() - valarr.min())\n",
    "    return normval"
   ]
  },
  {
   "cell_type": "code",
   "execution_count": 7,
   "metadata": {},
   "outputs": [
    {
     "name": "stdout",
     "output_type": "stream",
     "text": [
      "-14.317 --> 0.688\n"
     ]
    }
   ],
   "source": [
    "val = valarr[10]\n",
    "normval = normalize_minmax(val, valarr)\n",
    "\n",
    "\n",
    "print(f\"{val:1.3f} --> {normval:1.3f}\")"
   ]
  }
 ],
 "metadata": {
  "kernelspec": {
   "display_name": "sdt",
   "language": "python",
   "name": "python3"
  },
  "language_info": {
   "codemirror_mode": {
    "name": "ipython",
    "version": 3
   },
   "file_extension": ".py",
   "mimetype": "text/x-python",
   "name": "python",
   "nbconvert_exporter": "python",
   "pygments_lexer": "ipython3",
   "version": "3.11.0"
  },
  "orig_nbformat": 4
 },
 "nbformat": 4,
 "nbformat_minor": 2
}
